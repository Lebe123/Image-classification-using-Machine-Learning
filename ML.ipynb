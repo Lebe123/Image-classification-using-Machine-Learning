{
 "cells": [
  {
   "attachments": {},
   "cell_type": "markdown",
   "id": "01926707",
   "metadata": {},
   "source": [
    "# Image Classification Using Machine Learning\n",
    "### Name: Lebelo Hailesilassie\n",
    "\n",
    "## Overview\n",
    "\n",
    "\n",
    "In this assignment images were labeled into five classes. Those are classes of 0,2,4,6, and 9 in which the classes labeling was taken from the names of the image folder in which the images were stored. Manually checking and classifying images could be a tedious task especially when they are massive in number and therefore it will be very useful if we could automate this entire process using computer vision. The work below aims to put fundamental principles for that vision."
   ]
  },
  {
   "attachments": {},
   "cell_type": "markdown",
   "id": "4c99af7f",
   "metadata": {},
   "source": [
    "# Setup\n",
    "Import all necessary libraries:"
   ]
  },
  {
   "cell_type": "code",
   "execution_count": 2,
   "id": "2656b1b9",
   "metadata": {},
   "outputs": [],
   "source": [
    "import numpy as np\n",
    "import pandas as pd\n",
    "import os\n",
    "import io\n",
    "import cv2\n",
    "import seaborn as sns\n",
    "import matplotlib.pyplot as plt\n",
    "import matplotlib.ticker as mtick\n",
    "import warnings\n",
    "warnings.filterwarnings(\"ignore\")\n",
    "#!pip install tensorflow"
   ]
  },
  {
   "cell_type": "code",
   "execution_count": 3,
   "id": "f8825677",
   "metadata": {},
   "outputs": [
    {
     "data": {
      "text/plain": [
       "'/Users/lebelotigraway/Desktop/School_Stuff/Data_Science/Fun_projects/GitHub/mygit_projects/classification/images'"
      ]
     },
     "execution_count": 3,
     "metadata": {},
     "output_type": "execute_result"
    }
   ],
   "source": [
    "# Get my current working directory:\n",
    "os.getcwd()"
   ]
  },
  {
   "attachments": {},
   "cell_type": "markdown",
   "id": "2a8bac52",
   "metadata": {},
   "source": [
    "### Image Pre-Processing\n",
    "Reading Image"
   ]
  },
  {
   "cell_type": "code",
   "execution_count": 4,
   "id": "77d160d1",
   "metadata": {
    "scrolled": true
   },
   "outputs": [
    {
     "ename": "FileNotFoundError",
     "evalue": "[Errno 2] No such file or directory: '/Users/lebelotigraway/Desktop/School_Stuff/Data_Science/job_interviews/MachineLearningEngineerTest/ML/data/images/0'",
     "output_type": "error",
     "traceback": [
      "\u001b[0;31m---------------------------------------------------------------------------\u001b[0m",
      "\u001b[0;31mFileNotFoundError\u001b[0m                         Traceback (most recent call last)",
      "\u001b[0;32m/var/folders/ph/byvhmcpd42s3gc9m2xh7kmk40000gn/T/ipykernel_47648/1677661440.py\u001b[0m in \u001b[0;36m<module>\u001b[0;34m\u001b[0m\n\u001b[1;32m      9\u001b[0m \u001b[0;34m\u001b[0m\u001b[0m\n\u001b[1;32m     10\u001b[0m \u001b[0;31m# Loop through all the files in the folder\u001b[0m\u001b[0;34m\u001b[0m\u001b[0;34m\u001b[0m\u001b[0m\n\u001b[0;32m---> 11\u001b[0;31m \u001b[0;32mfor\u001b[0m \u001b[0mfilename\u001b[0m \u001b[0;32min\u001b[0m \u001b[0mos\u001b[0m\u001b[0;34m.\u001b[0m\u001b[0mlistdir\u001b[0m\u001b[0;34m(\u001b[0m\u001b[0mimage_folder\u001b[0m\u001b[0;34m)\u001b[0m\u001b[0;34m:\u001b[0m\u001b[0;34m\u001b[0m\u001b[0;34m\u001b[0m\u001b[0m\n\u001b[0m\u001b[1;32m     12\u001b[0m     \u001b[0;31m# Check if the file is an image\u001b[0m\u001b[0;34m\u001b[0m\u001b[0;34m\u001b[0m\u001b[0m\n\u001b[1;32m     13\u001b[0m     \u001b[0;32mif\u001b[0m \u001b[0mfilename\u001b[0m\u001b[0;34m.\u001b[0m\u001b[0mendswith\u001b[0m\u001b[0;34m(\u001b[0m\u001b[0;34m'.TIF'\u001b[0m\u001b[0;34m)\u001b[0m\u001b[0;34m:\u001b[0m\u001b[0;34m\u001b[0m\u001b[0;34m\u001b[0m\u001b[0m\n",
      "\u001b[0;31mFileNotFoundError\u001b[0m: [Errno 2] No such file or directory: '/Users/lebelotigraway/Desktop/School_Stuff/Data_Science/job_interviews/MachineLearningEngineerTest/ML/data/images/0'"
     ]
    }
   ],
   "source": [
    "from PIL import Image\n",
    "import os\n",
    "\n",
    "# Define the path to the image folder\n",
    "image_folder = '/Users/lebelotigraway/Desktop/School_Stuff/Data_Science/job_interviews/MachineLearningEngineerTest/ML/data/images/0'\n",
    "\n",
    "# Initialize a counter for the number of image files\n",
    "num_images = 0\n",
    "\n",
    "# Loop through all the files in the folder\n",
    "for filename in os.listdir(image_folder):\n",
    "    # Check if the file is an image\n",
    "    if filename.endswith('.TIF'):\n",
    "        # Increment the counter\n",
    "        num_images += 1\n",
    "        # Load the image\n",
    "        image_path = os.path.join(image_folder, filename)\n",
    "        image = Image.open(image_path)\n",
    "# Print the number of image files in the folder\n",
    "print(\"Number of images in the folder:\", num_images)\n",
    "\n",
    "# Check if there are 500 images\n",
    "if num_images == 500:\n",
    "    print(\"There are 500 images in the folder\")\n",
    "else:\n",
    "    print(\"There are not 500 images in the folder\")"
   ]
  },
  {
   "cell_type": "code",
   "execution_count": null,
   "id": "80bbb82f",
   "metadata": {
    "scrolled": true
   },
   "outputs": [],
   "source": [
    "def process_directory(path, width=28, height=28):\n",
    "    # Initialize a list to store the data for the DataFrame\n",
    "    data = []\n",
    "\n",
    "    # Loop over all the files in the directory\n",
    "    for filename in os.listdir(path):\n",
    "\n",
    "        # Check if the file is a .tif file\n",
    "        if filename.endswith(\".TIF\"):\n",
    "\n",
    "            # Load the image using Pillow\n",
    "            img = Image.open(os.path.join(path, filename))\n",
    "            # Resize the image\n",
    "            img = img.resize((width, height))\n",
    "            # Convert image to numpy array\n",
    "            img_np = np.array(img)\n",
    "\n",
    "            # Convert image to floats\n",
    "            img_float = img_np.astype(np.float32)\n",
    "\n",
    "            # Add the image data to the list\n",
    "            data.append({'image_name': filename, 'class': path.split('/')[-1], 'label': path.split('/')[-1]})\n",
    "\n",
    "    # Create the DataFrame with index and column names\n",
    "    df = pd.DataFrame(data, columns=['image_name', 'class', 'label'], index=range(1, len(data)+1))\n",
    "    return df\n"
   ]
  },
  {
   "cell_type": "code",
   "execution_count": null,
   "id": "3d5e1f3a",
   "metadata": {},
   "outputs": [],
   "source": [
    "# Define the root directory\n",
    "root_dir = '/Users/lebelotigraway/Desktop/School_Stuff/Data_Science/job_interviews/MachineLearningEngineerTest/ML/data/images'\n",
    "\n",
    "# Initialize a list to store the data for the DataFrame\n",
    "data = []\n",
    "\n",
    "# Loop over all the directories in the root directory\n",
    "for folder in os.listdir(root_dir):\n",
    "     # Check if the path is a directory\n",
    "    if not os.path.isdir(os.path.join(root_dir, folder)):\n",
    "        continue\n",
    "\n",
    "    # Check if the directory contains image files\n",
    "    if not any(filename.endswith(\".TIF\") for filename in os.listdir(os.path.join(root_dir, folder))):\n",
    "        continue\n",
    "\n",
    "    # Define the image folder for this directory\n",
    "    image_folder = os.path.join(root_dir, folder)\n",
    "\n",
    "    # Loop over all the image files in the image folder\n",
    "    for filename in os.listdir(image_folder):\n",
    "\n",
    "        # Check if the file is a .tif file\n",
    "        if filename.endswith(\".TIF\"):\n",
    "\n",
    "            # Load the image using Pillow\n",
    "            img = Image.open(os.path.join(image_folder, filename))\n",
    "\n",
    "            # Resize the image\n",
    "            img_resized = img.resize((28,28))\n",
    "\n",
    "            # Convert image to numpy array\n",
    "            img_np = np.array(img_resized)\n",
    "\n",
    "            # Convert image to floats\n",
    "            img_float = img_np.astype(np.float32)\n",
    "\n",
    "            # Add the image data to the list\n",
    "            data.append({'image_name': filename, 'class': folder, 'label': folder})\n",
    "\n",
    "# Create the DataFrame with index and column names\n",
    "df = pd.DataFrame(data, columns=['image_name', 'class', 'label'], index=range(1, len(data)+1))\n",
    "\n",
    "# Extract the image data into a numpy array\n",
    "#X = np.array([np.array(Image.open(os.path.join(root_dir, folder, filename)).resize((1000, 1000))) for folder, filename in zip(df['class'], df['image_name'])])"
   ]
  },
  {
   "cell_type": "code",
   "execution_count": null,
   "id": "c3777b5a",
   "metadata": {},
   "outputs": [
    {
     "data": {
      "text/html": [
       "<div>\n",
       "<style scoped>\n",
       "    .dataframe tbody tr th:only-of-type {\n",
       "        vertical-align: middle;\n",
       "    }\n",
       "\n",
       "    .dataframe tbody tr th {\n",
       "        vertical-align: top;\n",
       "    }\n",
       "\n",
       "    .dataframe thead th {\n",
       "        text-align: right;\n",
       "    }\n",
       "</style>\n",
       "<table border=\"1\" class=\"dataframe\">\n",
       "  <thead>\n",
       "    <tr style=\"text-align: right;\">\n",
       "      <th></th>\n",
       "      <th>image_name</th>\n",
       "      <th>class</th>\n",
       "      <th>label</th>\n",
       "    </tr>\n",
       "  </thead>\n",
       "  <tbody>\n",
       "    <tr>\n",
       "      <th>0</th>\n",
       "      <td>cdac0414-e5c0-409d-b397-f45522845e97.TIF</td>\n",
       "      <td>0</td>\n",
       "      <td>0</td>\n",
       "    </tr>\n",
       "    <tr>\n",
       "      <th>1</th>\n",
       "      <td>77befd48-9f17-405b-9a0a-66a6624c0ae0.TIF</td>\n",
       "      <td>0</td>\n",
       "      <td>0</td>\n",
       "    </tr>\n",
       "    <tr>\n",
       "      <th>2</th>\n",
       "      <td>b58f3dde-75cd-4a77-ad28-2fbb91e47d5a.TIF</td>\n",
       "      <td>0</td>\n",
       "      <td>0</td>\n",
       "    </tr>\n",
       "    <tr>\n",
       "      <th>3</th>\n",
       "      <td>60d1fe91-219a-49db-a3c1-d1f4d9210ec3.TIF</td>\n",
       "      <td>0</td>\n",
       "      <td>0</td>\n",
       "    </tr>\n",
       "    <tr>\n",
       "      <th>4</th>\n",
       "      <td>0849fc29-99d4-4b81-a1e9-fb0caa69f4bf.TIF</td>\n",
       "      <td>0</td>\n",
       "      <td>0</td>\n",
       "    </tr>\n",
       "    <tr>\n",
       "      <th>...</th>\n",
       "      <td>...</td>\n",
       "      <td>...</td>\n",
       "      <td>...</td>\n",
       "    </tr>\n",
       "    <tr>\n",
       "      <th>2495</th>\n",
       "      <td>99ae887e-83d3-4bf0-a6b1-f95ff079d26d.TIF</td>\n",
       "      <td>9</td>\n",
       "      <td>9</td>\n",
       "    </tr>\n",
       "    <tr>\n",
       "      <th>2496</th>\n",
       "      <td>504de95e-5f24-4e85-b89f-6ad3b7c6597f.TIF</td>\n",
       "      <td>9</td>\n",
       "      <td>9</td>\n",
       "    </tr>\n",
       "    <tr>\n",
       "      <th>2497</th>\n",
       "      <td>ce90825d-c1c8-46d8-8c3d-d22f72a5df9d.TIF</td>\n",
       "      <td>9</td>\n",
       "      <td>9</td>\n",
       "    </tr>\n",
       "    <tr>\n",
       "      <th>2498</th>\n",
       "      <td>e58fffc6-c16c-4efb-b01b-14c4a8c7cb28.TIF</td>\n",
       "      <td>9</td>\n",
       "      <td>9</td>\n",
       "    </tr>\n",
       "    <tr>\n",
       "      <th>2499</th>\n",
       "      <td>869050df-f8f9-4094-bc48-c9cc7306fe1c.TIF</td>\n",
       "      <td>9</td>\n",
       "      <td>9</td>\n",
       "    </tr>\n",
       "  </tbody>\n",
       "</table>\n",
       "<p>2500 rows × 3 columns</p>\n",
       "</div>"
      ],
      "text/plain": [
       "                                    image_name class label\n",
       "0     cdac0414-e5c0-409d-b397-f45522845e97.TIF     0     0\n",
       "1     77befd48-9f17-405b-9a0a-66a6624c0ae0.TIF     0     0\n",
       "2     b58f3dde-75cd-4a77-ad28-2fbb91e47d5a.TIF     0     0\n",
       "3     60d1fe91-219a-49db-a3c1-d1f4d9210ec3.TIF     0     0\n",
       "4     0849fc29-99d4-4b81-a1e9-fb0caa69f4bf.TIF     0     0\n",
       "...                                        ...   ...   ...\n",
       "2495  99ae887e-83d3-4bf0-a6b1-f95ff079d26d.TIF     9     9\n",
       "2496  504de95e-5f24-4e85-b89f-6ad3b7c6597f.TIF     9     9\n",
       "2497  ce90825d-c1c8-46d8-8c3d-d22f72a5df9d.TIF     9     9\n",
       "2498  e58fffc6-c16c-4efb-b01b-14c4a8c7cb28.TIF     9     9\n",
       "2499  869050df-f8f9-4094-bc48-c9cc7306fe1c.TIF     9     9\n",
       "\n",
       "[2500 rows x 3 columns]"
      ]
     },
     "execution_count": 6,
     "metadata": {},
     "output_type": "execute_result"
    }
   ],
   "source": [
    "# Define the width and height to resize the images\n",
    "width = 28\n",
    "height = 28\n",
    "\n",
    "# Define the paths to the image folders\n",
    "folder_0 = '/Users/lebelotigraway/Desktop/School_Stuff/Data_Science/job_interviews/MachineLearningEngineerTest/ML/data/images/0'\n",
    "folder_2 = '/Users/lebelotigraway/Desktop/School_Stuff/Data_Science/job_interviews/MachineLearningEngineerTest/ML/data/images/2'\n",
    "folder_4 = '/Users/lebelotigraway/Desktop/School_Stuff/Data_Science/job_interviews/MachineLearningEngineerTest/ML/data/images/4'\n",
    "folder_6 ='/Users/lebelotigraway/Desktop/School_Stuff/Data_Science/job_interviews/MachineLearningEngineerTest/ML/data/images/6'\n",
    "folder_9 ='/Users/lebelotigraway/Desktop/School_Stuff/Data_Science/job_interviews/MachineLearningEngineerTest/ML/data/images/9'\n",
    "\n",
    "# Process each folder and combine the resulting data frames\n",
    "dfs = []\n",
    "for folder_path in [folder_0, folder_2, folder_4,folder_6,folder_9]:\n",
    "    df = process_directory(folder_path, width=width, height=height)\n",
    "    dfs.append(df)\n",
    "\n",
    "# Combine all the DataFrames into one\n",
    "df_all = pd.concat(dfs, ignore_index=True)\n",
    "df_all"
   ]
  },
  {
   "attachments": {},
   "cell_type": "markdown",
   "id": "ec185e26",
   "metadata": {},
   "source": [
    "# Dataset Acquisition for Training and Testing\n",
    "\n"
   ]
  },
  {
   "attachments": {},
   "cell_type": "markdown",
   "id": "92e9d8c1",
   "metadata": {},
   "source": [
    "#### Resize and Reshape into 2D array"
   ]
  },
  {
   "attachments": {},
   "cell_type": "markdown",
   "id": "8c885bc3",
   "metadata": {},
   "source": [
    " Image classification using machine learning algorithms from sklearn\n",
    "requires reshaping the images of the dataset to a two-dimensional array.\n",
    "This is because sklearn expects a 2D array as input to the fit() function\n",
    "which will be called on the model during training.\n",
    "Because the model that is going to be used will be trained with 2-D array input shape, the images needs to be resized into their width and height specifications."
   ]
  },
  {
   "cell_type": "code",
   "execution_count": null,
   "id": "b9720217",
   "metadata": {},
   "outputs": [],
   "source": [
    "width = 28\n",
    "height = 28\n",
    "\n",
    "X = []\n",
    "y = []\n",
    "\n",
    "for folder_path, label in [(folder_0, 0), (folder_2, 2), (folder_4, 4), (folder_6, 6), (folder_9, 9)]:\n",
    "    for filename in os.listdir(folder_path):\n",
    "        if filename.endswith('.TIF'):\n",
    "            image_path = os.path.join(folder_path, filename)\n",
    "            img = Image.open(image_path)\n",
    "            img = img.resize((width, height))\n",
    "            img_arr = np.array(img)\n",
    "            X.append(img_arr)\n",
    "            y.append(label)\n",
    "\n",
    "X = np.array(X)# feature\n",
    "X=X.reshape(-1,width,height,1)\n",
    "y = np.array(y) #target(label) which is also the class\n",
    "y=y.reshape(-1,1)"
   ]
  },
  {
   "attachments": {},
   "cell_type": "markdown",
   "id": "4bb2b405",
   "metadata": {},
   "source": [
    "#####  Feature and Label Extraction"
   ]
  },
  {
   "cell_type": "code",
   "execution_count": null,
   "id": "cc4a67d8",
   "metadata": {},
   "outputs": [],
   "source": [
    "# Convert X to a DataFrame\n",
    "X_df = pd.DataFrame(X.reshape(X.shape[0], -1), columns=[f\"pixel_{i}\" for i in range(width*height)])\n",
    "\n",
    "# Convert y to a DataFrame\n",
    "y_df = pd.DataFrame(y, columns=[\"label\"])\n",
    "\n",
    "# Concatenate X_df and y_df along the columns axis\n",
    "df_all = pd.concat([X_df, y_df], axis=1)"
   ]
  },
  {
   "attachments": {},
   "cell_type": "markdown",
   "id": "eb2d68fa",
   "metadata": {},
   "source": [
    "##### Split Dataset into Training and Testing"
   ]
  },
  {
   "cell_type": "code",
   "execution_count": null,
   "id": "d96e2cfe",
   "metadata": {},
   "outputs": [
    {
     "name": "stdout",
     "output_type": "stream",
     "text": [
      "X_train shape: (2000, 28, 28, 1)\n",
      "y_train shape: (2000, 1)\n",
      "X_test shape: (500, 28, 28, 1)\n",
      "y_test shape: (500, 1)\n"
     ]
    }
   ],
   "source": [
    "# Split the data into training and testing sets, with 80% for training and 20% for testing\n",
    "from sklearn.model_selection import train_test_split\n",
    "X_train,X_test,y_train,y_test=train_test_split(X,y,test_size=0.2,random_state=42,stratify=y)\n",
    "# print the shapes of the resulting datasets:\n",
    "print('X_train shape:',X_train.shape)\n",
    "print('y_train shape:',y_train.shape)\n",
    "print('X_test shape:',X_test.shape)\n",
    "print('y_test shape:',y_test.shape)"
   ]
  },
  {
   "attachments": {},
   "cell_type": "markdown",
   "id": "c373c670",
   "metadata": {},
   "source": [
    "#### Passing Stratify=y"
   ]
  },
  {
   "attachments": {},
   "cell_type": "markdown",
   "id": "9d44dcac",
   "metadata": {},
   "source": [
    " Passing the 'target(y)' as the stratify parameter, 'train_test_split'will ensure that the class distribution is maintained in both the training and testing sets."
   ]
  },
  {
   "attachments": {},
   "cell_type": "markdown",
   "id": "f24c465f",
   "metadata": {},
   "source": [
    "#### Normalization & Reshape"
   ]
  },
  {
   "attachments": {},
   "cell_type": "markdown",
   "id": "d50c5d58",
   "metadata": {},
   "source": [
    " Normalization is an important step of image pre-processing by dividing \n",
    "both training and testing set of the feature by 255. This ensures the pixels of all\n",
    "the images are mainained within a uniform range."
   ]
  },
  {
   "cell_type": "code",
   "execution_count": null,
   "id": "6187fb26",
   "metadata": {},
   "outputs": [],
   "source": [
    "# Normalization\n",
    "X_train=X_train/255.0\n",
    "X_test=X_test/255.0"
   ]
  },
  {
   "cell_type": "code",
   "execution_count": null,
   "id": "1e43f0a1",
   "metadata": {},
   "outputs": [],
   "source": [
    "# Reshape X_train and X_test\n",
    "X_train2 = X_train.reshape(X_train.shape[0], -1)\n",
    "X_test2 = X_test.reshape(X_test.shape[0], -1)"
   ]
  },
  {
   "attachments": {},
   "cell_type": "markdown",
   "id": "e8b9e15e",
   "metadata": {},
   "source": [
    "# Implementing top noch Classifiers to Classify the class of an image"
   ]
  },
  {
   "attachments": {},
   "cell_type": "markdown",
   "id": "bac00ff9",
   "metadata": {},
   "source": [
    "#### 1. Random Forest Classifier\n",
    "A common problem with decision trees is that they tend to fit the training data too closely(i.e overfitting). This has motivated the widespread use of an ensemble learning method called random forest. In a random forest, many decision trees are trained,but each tree only receives a bootstrapped sample of observation(i. e a random sample of observations with replacement that matches the original number of observation) and each node only considers a subset of features when determining the best split. This forest of randomized decison trees votes to determine the predicted class of each image from the scanned documents.Parameters used in this classifier are the defualt.\n"
   ]
  },
  {
   "cell_type": "code",
   "execution_count": null,
   "id": "d99bc6ea",
   "metadata": {},
   "outputs": [],
   "source": [
    "# import RandomForest Classifier:\n",
    "from sklearn.ensemble import RandomForestClassifier\n",
    "# Ceate an instance of the RandomForestClassifier class:\n",
    "rf=RandomForestClassifier()\n",
    "# fit and train model using training sets\n",
    "rf.fit(X_train2,y_train)\n",
    "# predict the test set using the fitted RandomForest model\n",
    "y_pred_rf=rf.predict(X_test2)"
   ]
  },
  {
   "attachments": {},
   "cell_type": "markdown",
   "id": "3077bd11",
   "metadata": {},
   "source": [
    "#### 2. Decision Tree\n",
    "Tree-based learning algorithms are a broad and popular family of related non-parametric, supervised methods for both classification and regression. One reason for the popularity of tree-based models is their interpretability."
   ]
  },
  {
   "cell_type": "code",
   "execution_count": null,
   "id": "bc2984c4",
   "metadata": {},
   "outputs": [],
   "source": [
    "# import DecisionTree Classifier\n",
    "from sklearn.tree import DecisionTreeClassifier\n",
    "# Create and instance of the DecisionTreeClassifier\n",
    "dt=DecisionTreeClassifier()\n",
    "# fit and train model using training sets\n",
    "dt.fit(X_train2,y_train)\n",
    "# predict the test set using the fitted DecisionTree model\n",
    "y_pred_dt=dt.predict(X_test2)"
   ]
  },
  {
   "attachments": {},
   "cell_type": "markdown",
   "id": "421caa31",
   "metadata": {},
   "source": [
    "#### 3. K-Nearest Neighbours \n",
    "The K-Nearest Neighbors classifier(KNN) is one of the simplest and yet commonly used classifiers in supervised machine learning. This classifier does not technically train a model to make predictions. Instead an observation is predicted to be the class of that of the largest proportion of the k nearest observations. For example, if an observation with an unknown class is surrounded by an observation of class 0 (the first class in our data set), then the observation is classified as class 0."
   ]
  },
  {
   "cell_type": "code",
   "execution_count": null,
   "id": "c5d3ccaf",
   "metadata": {},
   "outputs": [],
   "source": [
    "# import KNeighborsClassifier class\n",
    "from sklearn.neighbors import KNeighborsClassifier\n",
    "# create and instance of KNeighbors of '7' folds, 5 is the defualt\n",
    "knn=KNeighborsClassifier(n_neighbors=7)\n",
    "# fit and train model using training sets\n",
    "knn.fit(X_train2,y_train)\n",
    "# predict the test set using the fitted knn model\n",
    "y_pred_knn=knn.predict(X_test2)"
   ]
  },
  {
   "attachments": {},
   "cell_type": "markdown",
   "id": "00094778",
   "metadata": {},
   "source": [
    "#### 4. Naive Bayes  \n",
    "In naive Bayes, we compare an observation's posterior values for each possible class. Because the marginal probability is constant across these comparisons, we compare the numerators of the posyerior for each class."
   ]
  },
  {
   "cell_type": "code",
   "execution_count": null,
   "id": "5b20f29c",
   "metadata": {},
   "outputs": [],
   "source": [
    "# import KNeighborsClassifier class\n",
    "from sklearn.naive_bayes import GaussianNB\n",
    "# create and instance of NB model\n",
    "nb=GaussianNB()\n",
    "# fit and train model using training sets\n",
    "nb.fit(X_train2,y_train)\n",
    "# predict the test set using the fitted knn model\n",
    "y_pred_nb=nb.predict(X_test2)"
   ]
  },
  {
   "attachments": {},
   "cell_type": "markdown",
   "id": "c413c182",
   "metadata": {},
   "source": [
    "# Evaluating Multiclass Classifier Prediction\n",
    "The models above were created and trained to predict five(5) classes namely class 0, class 2, class 4, class 6 and class 9. Classes name is from the name of the images folder.\n",
    "Metrics used to evaluate the model performance to identify the classification of the images are precision,recall, accuracy, F1, and confusion matrix."
   ]
  },
  {
   "attachments": {},
   "cell_type": "markdown",
   "id": "5ce5f688",
   "metadata": {},
   "source": [
    "#### import Performance Measures Metrics"
   ]
  },
  {
   "cell_type": "code",
   "execution_count": null,
   "id": "5ffdf0c5",
   "metadata": {},
   "outputs": [],
   "source": [
    "from sklearn.metrics import confusion_matrix,classification_report"
   ]
  },
  {
   "attachments": {},
   "cell_type": "markdown",
   "id": "498ac0c3",
   "metadata": {},
   "source": [
    "#### 1. Random Forest Classifier Model Performance \n"
   ]
  },
  {
   "attachments": {},
   "cell_type": "markdown",
   "id": "ac9dc188",
   "metadata": {},
   "source": [
    "##### Classification Report(Precision, Recall F1- Score)"
   ]
  },
  {
   "cell_type": "code",
   "execution_count": null,
   "id": "5d695999",
   "metadata": {
    "scrolled": false
   },
   "outputs": [
    {
     "data": {
      "text/html": [
       "<div>\n",
       "<style scoped>\n",
       "    .dataframe tbody tr th:only-of-type {\n",
       "        vertical-align: middle;\n",
       "    }\n",
       "\n",
       "    .dataframe tbody tr th {\n",
       "        vertical-align: top;\n",
       "    }\n",
       "\n",
       "    .dataframe thead th {\n",
       "        text-align: right;\n",
       "    }\n",
       "</style>\n",
       "<table border=\"1\" class=\"dataframe\">\n",
       "  <thead>\n",
       "    <tr style=\"text-align: right;\">\n",
       "      <th></th>\n",
       "      <th>precision</th>\n",
       "      <th>recall</th>\n",
       "      <th>f1-score</th>\n",
       "      <th>support</th>\n",
       "    </tr>\n",
       "  </thead>\n",
       "  <tbody>\n",
       "    <tr>\n",
       "      <th>0</th>\n",
       "      <td>0.81000</td>\n",
       "      <td>0.723214</td>\n",
       "      <td>0.764151</td>\n",
       "      <td>112.000</td>\n",
       "    </tr>\n",
       "    <tr>\n",
       "      <th>2</th>\n",
       "      <td>0.88000</td>\n",
       "      <td>0.854369</td>\n",
       "      <td>0.866995</td>\n",
       "      <td>103.000</td>\n",
       "    </tr>\n",
       "    <tr>\n",
       "      <th>4</th>\n",
       "      <td>0.72000</td>\n",
       "      <td>0.808989</td>\n",
       "      <td>0.761905</td>\n",
       "      <td>89.000</td>\n",
       "    </tr>\n",
       "    <tr>\n",
       "      <th>6</th>\n",
       "      <td>0.70000</td>\n",
       "      <td>0.673077</td>\n",
       "      <td>0.686275</td>\n",
       "      <td>104.000</td>\n",
       "    </tr>\n",
       "    <tr>\n",
       "      <th>9</th>\n",
       "      <td>0.55000</td>\n",
       "      <td>0.597826</td>\n",
       "      <td>0.572917</td>\n",
       "      <td>92.000</td>\n",
       "    </tr>\n",
       "    <tr>\n",
       "      <th>accuracy</th>\n",
       "      <td>0.73200</td>\n",
       "      <td>0.732000</td>\n",
       "      <td>0.732000</td>\n",
       "      <td>0.732</td>\n",
       "    </tr>\n",
       "    <tr>\n",
       "      <th>macro avg</th>\n",
       "      <td>0.73200</td>\n",
       "      <td>0.731495</td>\n",
       "      <td>0.730448</td>\n",
       "      <td>500.000</td>\n",
       "    </tr>\n",
       "    <tr>\n",
       "      <th>weighted avg</th>\n",
       "      <td>0.73768</td>\n",
       "      <td>0.732000</td>\n",
       "      <td>0.733552</td>\n",
       "      <td>500.000</td>\n",
       "    </tr>\n",
       "  </tbody>\n",
       "</table>\n",
       "</div>"
      ],
      "text/plain": [
       "              precision    recall  f1-score  support\n",
       "0               0.81000  0.723214  0.764151  112.000\n",
       "2               0.88000  0.854369  0.866995  103.000\n",
       "4               0.72000  0.808989  0.761905   89.000\n",
       "6               0.70000  0.673077  0.686275  104.000\n",
       "9               0.55000  0.597826  0.572917   92.000\n",
       "accuracy        0.73200  0.732000  0.732000    0.732\n",
       "macro avg       0.73200  0.731495  0.730448  500.000\n",
       "weighted avg    0.73768  0.732000  0.733552  500.000"
      ]
     },
     "execution_count": 17,
     "metadata": {},
     "output_type": "execute_result"
    }
   ],
   "source": [
    "# Generate classification report\n",
    "rf_model_performance=classification_report(y_pred_rf,y_test,output_dict=True)\n",
    "# Convert Classification report to dataframe\n",
    "rf_model_performance_df =pd.DataFrame(rf_model_performance).T\n",
    "rf_model_performance_df"
   ]
  },
  {
   "attachments": {},
   "cell_type": "markdown",
   "id": "defbfd7f",
   "metadata": {},
   "source": [
    "Macro : Calculates the mean of metric scores for each class, weighting each class equally.\n",
    "Weighted: Calculate mean of metric scores for each class, weighting each class proportional to its size in the data."
   ]
  },
  {
   "attachments": {},
   "cell_type": "markdown",
   "id": "fadabc1f",
   "metadata": {},
   "source": [
    "##### Confusion Matrix\n",
    "Confusion matrix compares predicted classes and true classes. One of the major benefits of comfusion matrices is their interpretability. Each column of the matrix (often visualized as a heatmap) represents the predicted classes, while every row shows true classes. The end result is that every cell is one possible combination of predict and true classes."
   ]
  },
  {
   "cell_type": "code",
   "execution_count": null,
   "id": "11bd2921",
   "metadata": {
    "scrolled": true
   },
   "outputs": [
    {
     "data": {
      "text/html": [
       "<div>\n",
       "<style scoped>\n",
       "    .dataframe tbody tr th:only-of-type {\n",
       "        vertical-align: middle;\n",
       "    }\n",
       "\n",
       "    .dataframe tbody tr th {\n",
       "        vertical-align: top;\n",
       "    }\n",
       "\n",
       "    .dataframe thead th {\n",
       "        text-align: right;\n",
       "    }\n",
       "</style>\n",
       "<table border=\"1\" class=\"dataframe\">\n",
       "  <thead>\n",
       "    <tr style=\"text-align: right;\">\n",
       "      <th></th>\n",
       "      <th>0</th>\n",
       "      <th>2</th>\n",
       "      <th>4</th>\n",
       "      <th>6</th>\n",
       "      <th>9</th>\n",
       "    </tr>\n",
       "  </thead>\n",
       "  <tbody>\n",
       "    <tr>\n",
       "      <th>0</th>\n",
       "      <td>81</td>\n",
       "      <td>6</td>\n",
       "      <td>9</td>\n",
       "      <td>8</td>\n",
       "      <td>8</td>\n",
       "    </tr>\n",
       "    <tr>\n",
       "      <th>2</th>\n",
       "      <td>5</td>\n",
       "      <td>88</td>\n",
       "      <td>1</td>\n",
       "      <td>5</td>\n",
       "      <td>4</td>\n",
       "    </tr>\n",
       "    <tr>\n",
       "      <th>4</th>\n",
       "      <td>2</td>\n",
       "      <td>1</td>\n",
       "      <td>72</td>\n",
       "      <td>1</td>\n",
       "      <td>13</td>\n",
       "    </tr>\n",
       "    <tr>\n",
       "      <th>6</th>\n",
       "      <td>6</td>\n",
       "      <td>4</td>\n",
       "      <td>4</td>\n",
       "      <td>70</td>\n",
       "      <td>20</td>\n",
       "    </tr>\n",
       "    <tr>\n",
       "      <th>9</th>\n",
       "      <td>6</td>\n",
       "      <td>1</td>\n",
       "      <td>14</td>\n",
       "      <td>16</td>\n",
       "      <td>55</td>\n",
       "    </tr>\n",
       "  </tbody>\n",
       "</table>\n",
       "</div>"
      ],
      "text/plain": [
       "    0   2   4   6   9\n",
       "0  81   6   9   8   8\n",
       "2   5  88   1   5   4\n",
       "4   2   1  72   1  13\n",
       "6   6   4   4  70  20\n",
       "9   6   1  14  16  55"
      ]
     },
     "execution_count": 18,
     "metadata": {},
     "output_type": "execute_result"
    }
   ],
   "source": [
    "# Compute confusion matrix\n",
    "rf_cm=confusion_matrix(y_pred_rf,y_test)\n",
    "#Convert to dataframe\n",
    "target_classes = ['0', '2', '4', '6', '9']\n",
    "rf_cm_df=pd.DataFrame(rf_cm,index=target_classes,columns=target_classes)\n",
    "rf_cm_df"
   ]
  },
  {
   "attachments": {},
   "cell_type": "markdown",
   "id": "8e241566",
   "metadata": {},
   "source": [
    "##### Visualze Confusion Matrix Using Heatmap"
   ]
  },
  {
   "cell_type": "code",
   "execution_count": null,
   "id": "ef17eff7",
   "metadata": {},
   "outputs": [
    {
     "data": {
      "image/png": "[encoded data removed]",
      "text/plain": [
       "<Figure size 640x480 with 1 Axes>"
      ]
     },
     "metadata": {},
     "output_type": "display_data"
    }
   ],
   "source": [
    "#create heatmap for better visualization\n",
    "sns.heatmap(rf_cm_df,annot=True,cbar=None,cmap='Blues')\n",
    "plt.title('Confusion Matrix for RandomForest Classifier'),plt.tight_layout()\n",
    "plt.ylabel('True Class'),plt.xlabel('Predicated Class')\n",
    "plt.show()"
   ]
  },
  {
   "attachments": {},
   "cell_type": "markdown",
   "id": "2d4ac435",
   "metadata": {},
   "source": [
    "RandomForest Classifier Heatmpa analysis:\n",
    "\n",
    "\n",
    "A perfect model will have values along the diagonal and zeros everywhere else. A bad model will look like the observation counts will be spread evenly around cells.\n",
    "The random forest classifier model is not perfect but it is not bad either. The model was able to predict 88% of class 2 correctly and 59% class 9, which is the lowest socre. That means this model had relatively an easy time differentating class o and class 2, but relatively much more difficult time classifying class 9."
   ]
  },
  {
   "attachments": {},
   "cell_type": "markdown",
   "id": "b15cd4ec",
   "metadata": {},
   "source": [
    "#### 2. Decision Tree"
   ]
  },
  {
   "attachments": {},
   "cell_type": "markdown",
   "id": "e1800d0a",
   "metadata": {},
   "source": [
    "##### Classification Report(Precision, Recall F1- Score"
   ]
  },
  {
   "cell_type": "code",
   "execution_count": null,
   "id": "c25ffa1a",
   "metadata": {},
   "outputs": [
    {
     "data": {
      "text/html": [
       "<div>\n",
       "<style scoped>\n",
       "    .dataframe tbody tr th:only-of-type {\n",
       "        vertical-align: middle;\n",
       "    }\n",
       "\n",
       "    .dataframe tbody tr th {\n",
       "        vertical-align: top;\n",
       "    }\n",
       "\n",
       "    .dataframe thead th {\n",
       "        text-align: right;\n",
       "    }\n",
       "</style>\n",
       "<table border=\"1\" class=\"dataframe\">\n",
       "  <thead>\n",
       "    <tr style=\"text-align: right;\">\n",
       "      <th></th>\n",
       "      <th>precision</th>\n",
       "      <th>recall</th>\n",
       "      <th>f1-score</th>\n",
       "      <th>support</th>\n",
       "    </tr>\n",
       "  </thead>\n",
       "  <tbody>\n",
       "    <tr>\n",
       "      <th>0</th>\n",
       "      <td>0.54000</td>\n",
       "      <td>0.556701</td>\n",
       "      <td>0.548223</td>\n",
       "      <td>97.00</td>\n",
       "    </tr>\n",
       "    <tr>\n",
       "      <th>2</th>\n",
       "      <td>0.83000</td>\n",
       "      <td>0.821782</td>\n",
       "      <td>0.825871</td>\n",
       "      <td>101.00</td>\n",
       "    </tr>\n",
       "    <tr>\n",
       "      <th>4</th>\n",
       "      <td>0.52000</td>\n",
       "      <td>0.626506</td>\n",
       "      <td>0.568306</td>\n",
       "      <td>83.00</td>\n",
       "    </tr>\n",
       "    <tr>\n",
       "      <th>6</th>\n",
       "      <td>0.48000</td>\n",
       "      <td>0.432432</td>\n",
       "      <td>0.454976</td>\n",
       "      <td>111.00</td>\n",
       "    </tr>\n",
       "    <tr>\n",
       "      <th>9</th>\n",
       "      <td>0.48000</td>\n",
       "      <td>0.444444</td>\n",
       "      <td>0.461538</td>\n",
       "      <td>108.00</td>\n",
       "    </tr>\n",
       "    <tr>\n",
       "      <th>accuracy</th>\n",
       "      <td>0.57000</td>\n",
       "      <td>0.570000</td>\n",
       "      <td>0.570000</td>\n",
       "      <td>0.57</td>\n",
       "    </tr>\n",
       "    <tr>\n",
       "      <th>macro avg</th>\n",
       "      <td>0.57000</td>\n",
       "      <td>0.576373</td>\n",
       "      <td>0.571783</td>\n",
       "      <td>500.00</td>\n",
       "    </tr>\n",
       "    <tr>\n",
       "      <th>weighted avg</th>\n",
       "      <td>0.56898</td>\n",
       "      <td>0.570000</td>\n",
       "      <td>0.568217</td>\n",
       "      <td>500.00</td>\n",
       "    </tr>\n",
       "  </tbody>\n",
       "</table>\n",
       "</div>"
      ],
      "text/plain": [
       "              precision    recall  f1-score  support\n",
       "0               0.54000  0.556701  0.548223    97.00\n",
       "2               0.83000  0.821782  0.825871   101.00\n",
       "4               0.52000  0.626506  0.568306    83.00\n",
       "6               0.48000  0.432432  0.454976   111.00\n",
       "9               0.48000  0.444444  0.461538   108.00\n",
       "accuracy        0.57000  0.570000  0.570000     0.57\n",
       "macro avg       0.57000  0.576373  0.571783   500.00\n",
       "weighted avg    0.56898  0.570000  0.568217   500.00"
      ]
     },
     "execution_count": 20,
     "metadata": {},
     "output_type": "execute_result"
    }
   ],
   "source": [
    "# Generate classification report\n",
    "dt_model_performance=classification_report(y_pred_dt,y_test,output_dict=True)\n",
    "# Convert Classification report to dataframe\n",
    "dt_model_performance_df =pd.DataFrame(dt_model_performance).T\n",
    "dt_model_performance_df"
   ]
  },
  {
   "attachments": {},
   "cell_type": "markdown",
   "id": "22a60687",
   "metadata": {},
   "source": [
    "##### Confusion Matrix\n",
    "Confusion matrix compares predicted classes and true classes"
   ]
  },
  {
   "cell_type": "code",
   "execution_count": null,
   "id": "7510fc64",
   "metadata": {},
   "outputs": [
    {
     "data": {
      "text/html": [
       "<div>\n",
       "<style scoped>\n",
       "    .dataframe tbody tr th:only-of-type {\n",
       "        vertical-align: middle;\n",
       "    }\n",
       "\n",
       "    .dataframe tbody tr th {\n",
       "        vertical-align: top;\n",
       "    }\n",
       "\n",
       "    .dataframe thead th {\n",
       "        text-align: right;\n",
       "    }\n",
       "</style>\n",
       "<table border=\"1\" class=\"dataframe\">\n",
       "  <thead>\n",
       "    <tr style=\"text-align: right;\">\n",
       "      <th></th>\n",
       "      <th>0</th>\n",
       "      <th>2</th>\n",
       "      <th>4</th>\n",
       "      <th>6</th>\n",
       "      <th>9</th>\n",
       "    </tr>\n",
       "  </thead>\n",
       "  <tbody>\n",
       "    <tr>\n",
       "      <th>0</th>\n",
       "      <td>54</td>\n",
       "      <td>8</td>\n",
       "      <td>11</td>\n",
       "      <td>11</td>\n",
       "      <td>13</td>\n",
       "    </tr>\n",
       "    <tr>\n",
       "      <th>2</th>\n",
       "      <td>5</td>\n",
       "      <td>83</td>\n",
       "      <td>4</td>\n",
       "      <td>6</td>\n",
       "      <td>3</td>\n",
       "    </tr>\n",
       "    <tr>\n",
       "      <th>4</th>\n",
       "      <td>10</td>\n",
       "      <td>2</td>\n",
       "      <td>52</td>\n",
       "      <td>9</td>\n",
       "      <td>10</td>\n",
       "    </tr>\n",
       "    <tr>\n",
       "      <th>6</th>\n",
       "      <td>18</td>\n",
       "      <td>2</td>\n",
       "      <td>17</td>\n",
       "      <td>48</td>\n",
       "      <td>26</td>\n",
       "    </tr>\n",
       "    <tr>\n",
       "      <th>9</th>\n",
       "      <td>13</td>\n",
       "      <td>5</td>\n",
       "      <td>16</td>\n",
       "      <td>26</td>\n",
       "      <td>48</td>\n",
       "    </tr>\n",
       "  </tbody>\n",
       "</table>\n",
       "</div>"
      ],
      "text/plain": [
       "    0   2   4   6   9\n",
       "0  54   8  11  11  13\n",
       "2   5  83   4   6   3\n",
       "4  10   2  52   9  10\n",
       "6  18   2  17  48  26\n",
       "9  13   5  16  26  48"
      ]
     },
     "execution_count": 21,
     "metadata": {},
     "output_type": "execute_result"
    }
   ],
   "source": [
    "# Compute confusion matrix\n",
    "dt_cm=confusion_matrix(y_pred_dt,y_test)\n",
    "#Convert to dataframe\n",
    "target_classes = ['0', '2', '4', '6', '9']\n",
    "dt_cm_df=pd.DataFrame(dt_cm,index=target_classes,columns=target_classes)\n",
    "dt_cm_df"
   ]
  },
  {
   "attachments": {},
   "cell_type": "markdown",
   "id": "b1b9b066",
   "metadata": {},
   "source": [
    "##### Visualze Confusion Matrix Using Heatmap"
   ]
  },
  {
   "cell_type": "code",
   "execution_count": null,
   "id": "8de67a82",
   "metadata": {},
   "outputs": [
    {
     "data": {
      "image/png": "[encoded data removed]",
      "text/plain": [
       "<Figure size 640x480 with 1 Axes>"
      ]
     },
     "metadata": {},
     "output_type": "display_data"
    }
   ],
   "source": [
    "#create heatmap for better visualization\n",
    "sns.heatmap(dt_cm_df,annot=True,cbar=None,cmap='Blues')\n",
    "plt.title('Confusion Matrix for Decision Tree Classifier'),plt.tight_layout()\n",
    "plt.ylabel('True Class'),plt.xlabel('Predicated Class')\n",
    "plt.show()"
   ]
  },
  {
   "attachments": {},
   "cell_type": "markdown",
   "id": "044f039d",
   "metadata": {},
   "source": [
    "Decision Tree Classifier Heatmpa analysis:\n",
    "    \n",
    "Like the Random Forest classifier model, the decison tree model seems to havee an easier time differentiating predicting class 2 but much more difficult with classifying all most all the classes or worst in classifying class 4 and class 6, both were <50%.\n"
   ]
  },
  {
   "attachments": {},
   "cell_type": "markdown",
   "id": "64363a1b",
   "metadata": {},
   "source": [
    "##### 3. K-Nearest Neighbours"
   ]
  },
  {
   "attachments": {},
   "cell_type": "markdown",
   "id": "788dcb2d",
   "metadata": {},
   "source": [
    "##### Classification Report(Precision, Recall F1- Score¶"
   ]
  },
  {
   "cell_type": "code",
   "execution_count": null,
   "id": "e21b118d",
   "metadata": {},
   "outputs": [
    {
     "data": {
      "text/html": [
       "<div>\n",
       "<style scoped>\n",
       "    .dataframe tbody tr th:only-of-type {\n",
       "        vertical-align: middle;\n",
       "    }\n",
       "\n",
       "    .dataframe tbody tr th {\n",
       "        vertical-align: top;\n",
       "    }\n",
       "\n",
       "    .dataframe thead th {\n",
       "        text-align: right;\n",
       "    }\n",
       "</style>\n",
       "<table border=\"1\" class=\"dataframe\">\n",
       "  <thead>\n",
       "    <tr style=\"text-align: right;\">\n",
       "      <th></th>\n",
       "      <th>precision</th>\n",
       "      <th>recall</th>\n",
       "      <th>f1-score</th>\n",
       "      <th>support</th>\n",
       "    </tr>\n",
       "  </thead>\n",
       "  <tbody>\n",
       "    <tr>\n",
       "      <th>0</th>\n",
       "      <td>0.76000</td>\n",
       "      <td>0.723810</td>\n",
       "      <td>0.741463</td>\n",
       "      <td>105.000</td>\n",
       "    </tr>\n",
       "    <tr>\n",
       "      <th>2</th>\n",
       "      <td>0.92000</td>\n",
       "      <td>0.760331</td>\n",
       "      <td>0.832579</td>\n",
       "      <td>121.000</td>\n",
       "    </tr>\n",
       "    <tr>\n",
       "      <th>4</th>\n",
       "      <td>0.50000</td>\n",
       "      <td>0.847458</td>\n",
       "      <td>0.628931</td>\n",
       "      <td>59.000</td>\n",
       "    </tr>\n",
       "    <tr>\n",
       "      <th>6</th>\n",
       "      <td>0.77000</td>\n",
       "      <td>0.546099</td>\n",
       "      <td>0.639004</td>\n",
       "      <td>141.000</td>\n",
       "    </tr>\n",
       "    <tr>\n",
       "      <th>9</th>\n",
       "      <td>0.41000</td>\n",
       "      <td>0.554054</td>\n",
       "      <td>0.471264</td>\n",
       "      <td>74.000</td>\n",
       "    </tr>\n",
       "    <tr>\n",
       "      <th>accuracy</th>\n",
       "      <td>0.67200</td>\n",
       "      <td>0.672000</td>\n",
       "      <td>0.672000</td>\n",
       "      <td>0.672</td>\n",
       "    </tr>\n",
       "    <tr>\n",
       "      <th>macro avg</th>\n",
       "      <td>0.67200</td>\n",
       "      <td>0.686350</td>\n",
       "      <td>0.662648</td>\n",
       "      <td>500.000</td>\n",
       "    </tr>\n",
       "    <tr>\n",
       "      <th>weighted avg</th>\n",
       "      <td>0.71906</td>\n",
       "      <td>0.672000</td>\n",
       "      <td>0.681352</td>\n",
       "      <td>500.000</td>\n",
       "    </tr>\n",
       "  </tbody>\n",
       "</table>\n",
       "</div>"
      ],
      "text/plain": [
       "              precision    recall  f1-score  support\n",
       "0               0.76000  0.723810  0.741463  105.000\n",
       "2               0.92000  0.760331  0.832579  121.000\n",
       "4               0.50000  0.847458  0.628931   59.000\n",
       "6               0.77000  0.546099  0.639004  141.000\n",
       "9               0.41000  0.554054  0.471264   74.000\n",
       "accuracy        0.67200  0.672000  0.672000    0.672\n",
       "macro avg       0.67200  0.686350  0.662648  500.000\n",
       "weighted avg    0.71906  0.672000  0.681352  500.000"
      ]
     },
     "execution_count": 23,
     "metadata": {},
     "output_type": "execute_result"
    }
   ],
   "source": [
    "# Generate classification report\n",
    "knn_model_performance=classification_report(y_pred_knn,y_test,output_dict=True)\n",
    "# Convert Classification report to dataframe\n",
    "knn_model_performance_df =pd.DataFrame(knn_model_performance).T\n",
    "knn_model_performance_df"
   ]
  },
  {
   "attachments": {},
   "cell_type": "markdown",
   "id": "4c893790",
   "metadata": {},
   "source": [
    "##### Confusion Matrix¶\n",
    "Confusion matrix compares predicted classes and true classes"
   ]
  },
  {
   "cell_type": "code",
   "execution_count": null,
   "id": "4cba0308",
   "metadata": {},
   "outputs": [
    {
     "data": {
      "text/html": [
       "<div>\n",
       "<style scoped>\n",
       "    .dataframe tbody tr th:only-of-type {\n",
       "        vertical-align: middle;\n",
       "    }\n",
       "\n",
       "    .dataframe tbody tr th {\n",
       "        vertical-align: top;\n",
       "    }\n",
       "\n",
       "    .dataframe thead th {\n",
       "        text-align: right;\n",
       "    }\n",
       "</style>\n",
       "<table border=\"1\" class=\"dataframe\">\n",
       "  <thead>\n",
       "    <tr style=\"text-align: right;\">\n",
       "      <th></th>\n",
       "      <th>0</th>\n",
       "      <th>2</th>\n",
       "      <th>4</th>\n",
       "      <th>6</th>\n",
       "      <th>9</th>\n",
       "    </tr>\n",
       "  </thead>\n",
       "  <tbody>\n",
       "    <tr>\n",
       "      <th>0</th>\n",
       "      <td>76</td>\n",
       "      <td>3</td>\n",
       "      <td>5</td>\n",
       "      <td>8</td>\n",
       "      <td>13</td>\n",
       "    </tr>\n",
       "    <tr>\n",
       "      <th>2</th>\n",
       "      <td>11</td>\n",
       "      <td>92</td>\n",
       "      <td>6</td>\n",
       "      <td>7</td>\n",
       "      <td>5</td>\n",
       "    </tr>\n",
       "    <tr>\n",
       "      <th>4</th>\n",
       "      <td>2</td>\n",
       "      <td>0</td>\n",
       "      <td>50</td>\n",
       "      <td>2</td>\n",
       "      <td>5</td>\n",
       "    </tr>\n",
       "    <tr>\n",
       "      <th>6</th>\n",
       "      <td>9</td>\n",
       "      <td>3</td>\n",
       "      <td>16</td>\n",
       "      <td>77</td>\n",
       "      <td>36</td>\n",
       "    </tr>\n",
       "    <tr>\n",
       "      <th>9</th>\n",
       "      <td>2</td>\n",
       "      <td>2</td>\n",
       "      <td>23</td>\n",
       "      <td>6</td>\n",
       "      <td>41</td>\n",
       "    </tr>\n",
       "  </tbody>\n",
       "</table>\n",
       "</div>"
      ],
      "text/plain": [
       "    0   2   4   6   9\n",
       "0  76   3   5   8  13\n",
       "2  11  92   6   7   5\n",
       "4   2   0  50   2   5\n",
       "6   9   3  16  77  36\n",
       "9   2   2  23   6  41"
      ]
     },
     "execution_count": 24,
     "metadata": {},
     "output_type": "execute_result"
    }
   ],
   "source": [
    "# Compute confusion matrix\n",
    "knn_cm=confusion_matrix(y_pred_knn,y_test)\n",
    "#Convert to dataframe\n",
    "target_classes = ['0', '2', '4', '6', '9']\n",
    "knn_cm_df=pd.DataFrame(knn_cm,index=target_classes,columns=target_classes)\n",
    "knn_cm_df"
   ]
  },
  {
   "attachments": {},
   "cell_type": "markdown",
   "id": "1f439ce5",
   "metadata": {},
   "source": [
    "##### Visualze Confusion Matrix Using Heatmap"
   ]
  },
  {
   "cell_type": "code",
   "execution_count": null,
   "id": "8210bca9",
   "metadata": {},
   "outputs": [
    {
     "data": {
      "image/png": "[encoded data removed]",
      "text/plain": [
       "<Figure size 640x480 with 1 Axes>"
      ]
     },
     "metadata": {},
     "output_type": "display_data"
    }
   ],
   "source": [
    "#create heatmap for better visualization\n",
    "sns.heatmap(knn_cm_df,annot=True,cbar=None,cmap='Blues')\n",
    "plt.title('Confusion Matrix for K-Nearest Neighbour Classifier'),plt.tight_layout()\n",
    "plt.ylabel('True Class'),plt.xlabel('Predicated Class')\n",
    "plt.show()"
   ]
  },
  {
   "attachments": {},
   "cell_type": "markdown",
   "id": "63f21073",
   "metadata": {},
   "source": [
    "KNN Classifier Heatmpa analysis:\n",
    "\n",
    "KNN classifier predicts class 2 at 92% which is the highest score by any of the models considered in this analysis. This model seems to do well classifying most of the classes except for class 9(41) and class 4(50). By now it is safe to say all the models are having difficult time classifying class 9."
   ]
  },
  {
   "attachments": {},
   "cell_type": "markdown",
   "id": "ec0838b5",
   "metadata": {},
   "source": [
    "##### 4. Naive Bayes"
   ]
  },
  {
   "attachments": {},
   "cell_type": "markdown",
   "id": "e94550ed",
   "metadata": {},
   "source": [
    "##### Classification Report(Precision, Recall F1- Score¶"
   ]
  },
  {
   "cell_type": "code",
   "execution_count": null,
   "id": "afb0be26",
   "metadata": {},
   "outputs": [
    {
     "data": {
      "text/html": [
       "<div>\n",
       "<style scoped>\n",
       "    .dataframe tbody tr th:only-of-type {\n",
       "        vertical-align: middle;\n",
       "    }\n",
       "\n",
       "    .dataframe tbody tr th {\n",
       "        vertical-align: top;\n",
       "    }\n",
       "\n",
       "    .dataframe thead th {\n",
       "        text-align: right;\n",
       "    }\n",
       "</style>\n",
       "<table border=\"1\" class=\"dataframe\">\n",
       "  <thead>\n",
       "    <tr style=\"text-align: right;\">\n",
       "      <th></th>\n",
       "      <th>precision</th>\n",
       "      <th>recall</th>\n",
       "      <th>f1-score</th>\n",
       "      <th>support</th>\n",
       "    </tr>\n",
       "  </thead>\n",
       "  <tbody>\n",
       "    <tr>\n",
       "      <th>0</th>\n",
       "      <td>0.5600</td>\n",
       "      <td>0.427481</td>\n",
       "      <td>0.484848</td>\n",
       "      <td>131.00</td>\n",
       "    </tr>\n",
       "    <tr>\n",
       "      <th>2</th>\n",
       "      <td>0.9000</td>\n",
       "      <td>0.584416</td>\n",
       "      <td>0.708661</td>\n",
       "      <td>154.00</td>\n",
       "    </tr>\n",
       "    <tr>\n",
       "      <th>4</th>\n",
       "      <td>0.6200</td>\n",
       "      <td>0.815789</td>\n",
       "      <td>0.704545</td>\n",
       "      <td>76.00</td>\n",
       "    </tr>\n",
       "    <tr>\n",
       "      <th>6</th>\n",
       "      <td>0.1800</td>\n",
       "      <td>0.620690</td>\n",
       "      <td>0.279070</td>\n",
       "      <td>29.00</td>\n",
       "    </tr>\n",
       "    <tr>\n",
       "      <th>9</th>\n",
       "      <td>0.5400</td>\n",
       "      <td>0.490909</td>\n",
       "      <td>0.514286</td>\n",
       "      <td>110.00</td>\n",
       "    </tr>\n",
       "    <tr>\n",
       "      <th>accuracy</th>\n",
       "      <td>0.5600</td>\n",
       "      <td>0.560000</td>\n",
       "      <td>0.560000</td>\n",
       "      <td>0.56</td>\n",
       "    </tr>\n",
       "    <tr>\n",
       "      <th>macro avg</th>\n",
       "      <td>0.5600</td>\n",
       "      <td>0.587857</td>\n",
       "      <td>0.538282</td>\n",
       "      <td>500.00</td>\n",
       "    </tr>\n",
       "    <tr>\n",
       "      <th>weighted avg</th>\n",
       "      <td>0.6474</td>\n",
       "      <td>0.560000</td>\n",
       "      <td>0.581718</td>\n",
       "      <td>500.00</td>\n",
       "    </tr>\n",
       "  </tbody>\n",
       "</table>\n",
       "</div>"
      ],
      "text/plain": [
       "              precision    recall  f1-score  support\n",
       "0                0.5600  0.427481  0.484848   131.00\n",
       "2                0.9000  0.584416  0.708661   154.00\n",
       "4                0.6200  0.815789  0.704545    76.00\n",
       "6                0.1800  0.620690  0.279070    29.00\n",
       "9                0.5400  0.490909  0.514286   110.00\n",
       "accuracy         0.5600  0.560000  0.560000     0.56\n",
       "macro avg        0.5600  0.587857  0.538282   500.00\n",
       "weighted avg     0.6474  0.560000  0.581718   500.00"
      ]
     },
     "execution_count": 26,
     "metadata": {},
     "output_type": "execute_result"
    }
   ],
   "source": [
    "# Generate classification report\n",
    "nb_model_performance=classification_report(y_pred_nb,y_test,output_dict=True)\n",
    "# Convert Classification report to dataframe\n",
    "nb_model_performance_df =pd.DataFrame(nb_model_performance).T\n",
    "nb_model_performance_df"
   ]
  },
  {
   "attachments": {},
   "cell_type": "markdown",
   "id": "e8d64bc4",
   "metadata": {},
   "source": [
    "##### Confusion Matrix¶¶\n",
    "Confusion matrix compares predicted classes and true classes"
   ]
  },
  {
   "cell_type": "code",
   "execution_count": null,
   "id": "2e59c065",
   "metadata": {},
   "outputs": [
    {
     "data": {
      "text/html": [
       "<div>\n",
       "<style scoped>\n",
       "    .dataframe tbody tr th:only-of-type {\n",
       "        vertical-align: middle;\n",
       "    }\n",
       "\n",
       "    .dataframe tbody tr th {\n",
       "        vertical-align: top;\n",
       "    }\n",
       "\n",
       "    .dataframe thead th {\n",
       "        text-align: right;\n",
       "    }\n",
       "</style>\n",
       "<table border=\"1\" class=\"dataframe\">\n",
       "  <thead>\n",
       "    <tr style=\"text-align: right;\">\n",
       "      <th></th>\n",
       "      <th>0</th>\n",
       "      <th>2</th>\n",
       "      <th>4</th>\n",
       "      <th>6</th>\n",
       "      <th>9</th>\n",
       "    </tr>\n",
       "  </thead>\n",
       "  <tbody>\n",
       "    <tr>\n",
       "      <th>0</th>\n",
       "      <td>56</td>\n",
       "      <td>8</td>\n",
       "      <td>8</td>\n",
       "      <td>38</td>\n",
       "      <td>21</td>\n",
       "    </tr>\n",
       "    <tr>\n",
       "      <th>2</th>\n",
       "      <td>35</td>\n",
       "      <td>90</td>\n",
       "      <td>5</td>\n",
       "      <td>14</td>\n",
       "      <td>10</td>\n",
       "    </tr>\n",
       "    <tr>\n",
       "      <th>4</th>\n",
       "      <td>1</td>\n",
       "      <td>0</td>\n",
       "      <td>62</td>\n",
       "      <td>4</td>\n",
       "      <td>9</td>\n",
       "    </tr>\n",
       "    <tr>\n",
       "      <th>6</th>\n",
       "      <td>0</td>\n",
       "      <td>0</td>\n",
       "      <td>5</td>\n",
       "      <td>18</td>\n",
       "      <td>6</td>\n",
       "    </tr>\n",
       "    <tr>\n",
       "      <th>9</th>\n",
       "      <td>8</td>\n",
       "      <td>2</td>\n",
       "      <td>20</td>\n",
       "      <td>26</td>\n",
       "      <td>54</td>\n",
       "    </tr>\n",
       "  </tbody>\n",
       "</table>\n",
       "</div>"
      ],
      "text/plain": [
       "    0   2   4   6   9\n",
       "0  56   8   8  38  21\n",
       "2  35  90   5  14  10\n",
       "4   1   0  62   4   9\n",
       "6   0   0   5  18   6\n",
       "9   8   2  20  26  54"
      ]
     },
     "execution_count": 27,
     "metadata": {},
     "output_type": "execute_result"
    }
   ],
   "source": [
    "# Compute confusion matrix\n",
    "nb_cm=confusion_matrix(y_pred_nb,y_test)\n",
    "#Convert to dataframe\n",
    "target_classes = ['0', '2', '4', '6', '9']\n",
    "nb_cm_df=pd.DataFrame(nb_cm,index=target_classes,columns=target_classes)\n",
    "nb_cm_df"
   ]
  },
  {
   "attachments": {},
   "cell_type": "markdown",
   "id": "528ccd40",
   "metadata": {},
   "source": [
    "##### Visualze Confusion Matrix Using Heatmap"
   ]
  },
  {
   "cell_type": "code",
   "execution_count": null,
   "id": "27618fdc",
   "metadata": {},
   "outputs": [
    {
     "data": {
      "image/png": "[encoded data removed]",
      "text/plain": [
       "<Figure size 640x480 with 1 Axes>"
      ]
     },
     "metadata": {},
     "output_type": "display_data"
    }
   ],
   "source": [
    "#create heatmap for better visualization\n",
    "sns.heatmap(nb_cm_df,annot=True,cbar=None,cmap='Blues')\n",
    "plt.title('Confusion Matrix for Naive Bayes Classifier'),plt.tight_layout()\n",
    "plt.ylabel('True Class'),plt.xlabel('Predicated Class')\n",
    "plt.show()"
   ]
  },
  {
   "attachments": {},
   "cell_type": "markdown",
   "id": "18d08fb7",
   "metadata": {},
   "source": [
    "Naive Bayes Classifier Heatmpa analysis:\n",
    "\n",
    "\n",
    "Naive Bayes classifier is more or less similar to KNN. They both had easy time classifying class 2 (>90). This model had worst time of classifying class 6 (18) which is the lowest by any model in this context.\n",
    "Overall, though some models were able to classify specific class at higher percentage (class 2), I think Random Forest classifier is the best model to work with this image classification while Naive Bayes is the worst."
   ]
  },
  {
   "attachments": {},
   "cell_type": "markdown",
   "id": "1134f05b",
   "metadata": {},
   "source": [
    "# Results"
   ]
  },
  {
   "attachments": {},
   "cell_type": "markdown",
   "id": "ae88beac",
   "metadata": {},
   "source": [
    "##### Accuracy Score Comparison"
   ]
  },
  {
   "cell_type": "code",
   "execution_count": null,
   "id": "681018a6",
   "metadata": {},
   "outputs": [],
   "source": [
    " # Generate accuracy score for each plot\n",
    "from sklearn.metrics import accuracy_score\n",
    "rf_accuracy=accuracy_score(y_pred_rf,y_test)\n",
    "dt_accuracy=accuracy_score(y_pred_dt,y_test)\n",
    "knn_accuracy=accuracy_score(y_pred_knn,y_test)\n",
    "nb_accuracy=accuracy_score(y_pred_nb,y_test)"
   ]
  },
  {
   "cell_type": "code",
   "execution_count": null,
   "id": "69600817",
   "metadata": {},
   "outputs": [
    {
     "data": {
      "image/png": "[encoded data removed]",
      "text/plain": [
       "<Figure size 640x480 with 1 Axes>"
      ]
     },
     "metadata": {},
     "output_type": "display_data"
    }
   ],
   "source": [
    "# Define the data\n",
    "models = ['Random Forest', 'Decision Tree', 'KNN', 'Naive Bayes']\n",
    "accuracies = [rf_accuracy, dt_accuracy, knn_accuracy, nb_accuracy]\n",
    "\n",
    "# Create the bar chart\n",
    "fig, ax = plt.subplots()\n",
    "ax.bar(models, accuracies, color=['blue', 'green', 'purple', 'orange'])\n",
    "ax.set(title='Model Accuracy Comparison', xlabel='Model', ylabel='Accuracy (%)')\n",
    "ax.set_ylim([0.3, 0.8])\n",
    "plt.gca().yaxis.set_major_formatter(mtick.PercentFormatter(xmax=1))\n",
    "# Save the figure\n",
    "if not os.path.exists('figures'):\n",
    "    os.makedirs('figures')\n",
    "fig.savefig('figures/model_accuracies.png', dpi=300)\n",
    "plt.show()"
   ]
  },
  {
   "attachments": {},
   "cell_type": "markdown",
   "id": "022ca32a",
   "metadata": {},
   "source": [
    "Accuracy Comparison Analysis:\n",
    "\n",
    "The accuracies of the four ML algorithms that was just explored to classify the class of each images can be summarized using the graph shown above.\n",
    "Random Forest Classifier shows the best performance with 74% accuracy followed by KNN with 67% accuracy, Decision Tree with 57% accuracy and NB with 56% accuracy. Thus, Random Forest exhibits the best peromance and NB the worst. This conclusion also aligns with the results from the confusion matrix heatmap."
   ]
  },
  {
   "attachments": {},
   "cell_type": "markdown",
   "id": "8aac95bd",
   "metadata": {},
   "source": [
    "##### Precision Score Comparison"
   ]
  },
  {
   "cell_type": "code",
   "execution_count": null,
   "id": "5301784a",
   "metadata": {
    "scrolled": true
   },
   "outputs": [
    {
     "data": {
      "image/png": "[encoded data removed]",
      "text/plain": [
       "<Figure size 640x480 with 1 Axes>"
      ]
     },
     "metadata": {},
     "output_type": "display_data"
    }
   ],
   "source": [
    "# Extract precision from each model's performance dataframe\n",
    "rf_precision = rf_model_performance_df.loc['weighted avg', 'precision']\n",
    "dt_precision = dt_model_performance_df.loc['weighted avg', 'precision']\n",
    "knn_precision = knn_model_performance_df.loc['weighted avg', 'precision']\n",
    "nb_precision = nb_model_performance_df.loc['weighted avg', 'precision']\n",
    "\n",
    "# Create a dataframe for the precision of each model\n",
    "model_comparison = pd.DataFrame({'Random Forest': rf_precision, 'Decision Tree': dt_precision,\n",
    "                                 'K-Nearest Neighbors': knn_precision, 'Naive Bayes': nb_precision},\n",
    "                                index=['precision'])\n",
    "\n",
    "# Create the bar chart\n",
    "fig, ax = plt.subplots()\n",
    "model_comparison.plot(kind='bar', rot=0, ax=ax)\n",
    "ax.set_title('Model Comparison Precision')\n",
    "plt.ylabel('Precision')\n",
    "plt.gca().yaxis.set_major_formatter(mtick.PercentFormatter(xmax=1))\n",
    "\n",
    "# Save the figure\n",
    "if not os.path.exists('figures'):\n",
    "    os.makedirs('figures')\n",
    "fig.savefig('figures/model_precisions.png', dpi=300)\n",
    "plt.show()"
   ]
  },
  {
   "cell_type": "code",
   "execution_count": null,
   "id": "638cef4b",
   "metadata": {},
   "outputs": [
    {
     "data": {
      "image/png": "[encoded data removed]",
      "text/plain": [
       "<Figure size 640x480 with 1 Axes>"
      ]
     },
     "metadata": {},
     "output_type": "display_data"
    }
   ],
   "source": [
    "# Extract recall from each model's performance dataframe\n",
    "rf_recall = rf_model_performance_df.loc['weighted avg', 'recall']\n",
    "dt_recall = dt_model_performance_df.loc['weighted avg', 'recall']\n",
    "knn_recall = knn_model_performance_df.loc['weighted avg', 'recall']\n",
    "nb_recall = nb_model_performance_df.loc['weighted avg', 'recall']\n",
    "\n",
    "# Create a dataframe for the recall of each model\n",
    "model_comparison = pd.DataFrame({'Random Forest': rf_recall, 'Decision Tree': dt_recall,\n",
    "                                 'K-Nearest Neighbors': knn_recall, 'Naive Bayes': nb_recall},\n",
    "                                index=['recall'])\n",
    "\n",
    "# Create the bar chart\n",
    "fig, ax = plt.subplots()\n",
    "model_comparison.plot(kind='bar', rot=0, ax=ax)\n",
    "ax.set_title('Model Comparison Recall')\n",
    "plt.ylabel('Recall')\n",
    "plt.gca().yaxis.set_major_formatter(mtick.PercentFormatter(xmax=1))\n",
    "\n",
    "# Save the figure\n",
    "if not os.path.exists('figures'):\n",
    "    os.makedirs('figures')\n",
    "fig.savefig('figures/model_recall.png', dpi=300)\n",
    "plt.show()"
   ]
  },
  {
   "attachments": {},
   "cell_type": "markdown",
   "id": "0e37b4ac",
   "metadata": {},
   "source": [
    "##### F1 Score Comparison"
   ]
  },
  {
   "cell_type": "code",
   "execution_count": null,
   "id": "6bdc1472",
   "metadata": {},
   "outputs": [
    {
     "data": {
      "image/png": "[encoded data removed]",
      "text/plain": [
       "<Figure size 640x480 with 1 Axes>"
      ]
     },
     "metadata": {},
     "output_type": "display_data"
    }
   ],
   "source": [
    "# Extract f1-score from each model's performance dataframe\n",
    "rf_f1 = rf_model_performance_df.loc['weighted avg', 'f1-score']\n",
    "dt_f1 = dt_model_performance_df.loc['weighted avg', 'f1-score']\n",
    "knn_f1 = knn_model_performance_df.loc['weighted avg', 'f1-score']\n",
    "nb_f1 = nb_model_performance_df.loc['weighted avg', 'f1-score']\n",
    "\n",
    "# Create a dataframe for the f1-score of each model\n",
    "model_comparison = pd.DataFrame({'Random Forest': rf_f1, 'Decision Tree': dt_f1,\n",
    "                                 'K-Nearest Neighbors': knn_f1, 'Naive Bayes': nb_f1},\n",
    "                                index=['F1-Score'])\n",
    "\n",
    "# Plot a bar chart\n",
    "model_comparison.plot(kind='bar', rot=0)\n",
    "plt.title('Model Comparison F1')\n",
    "plt.ylabel('F1-Score')\n",
    "\n",
    "# Save the figure\n",
    "if not os.path.exists('figures'):\n",
    "    os.makedirs('figures')\n",
    "plt.savefig('figures/model_f1.png', dpi=300)\n",
    "plt.show()"
   ]
  },
  {
   "attachments": {},
   "cell_type": "markdown",
   "id": "c0ee9bea",
   "metadata": {},
   "source": [
    "# Conclusion\n",
    "It conclusion, among all the four models used to classify the class of the images, RandomForest model exhibits the best performance and should be considered for the image classification given the model can be optimazed, fine tuned by changing all the parameters available in the sklearn libraries for the RandomForestClassifier()."
   ]
  },
  {
   "attachments": {},
   "cell_type": "markdown",
   "id": "810a6e4e",
   "metadata": {},
   "source": [
    "# Appendix: Consolidate Trained Files"
   ]
  },
  {
   "attachments": {},
   "cell_type": "markdown",
   "id": "05ad4503",
   "metadata": {},
   "source": [
    "#### 1. Training and Testing Data "
   ]
  },
  {
   "cell_type": "code",
   "execution_count": null,
   "id": "1fc0d373",
   "metadata": {},
   "outputs": [],
   "source": [
    "# convert training and testing data into dataframe\n",
    "X_train_df = pd.DataFrame(X_train.reshape(2000, -1))\n",
    "y_train_df=pd.DataFrame(y_train,columns=['class'])\n",
    "X_test_df = pd.DataFrame(X_test.reshape(500, -1))\n",
    "y_test=pd.DataFrame(y_test,columns=['class'])\n",
    "# Horizontally stack X_train and y_train\n",
    "train_data = pd.concat([X_train_df, y_train_df], axis=1)\n",
    "# Horizontally stack X_test and y_test\n",
    "test_data = pd.concat([X_test_df, y_test], axis=1)\n",
    "# Concatenate train and test dataframes vertically\n",
    "all_data = pd.concat([train_data, test_data], axis=0, ignore_index=True)\n",
    "# Create a Pandas Excel writer using XlsxWriter engine\n",
    "writer = pd.ExcelWriter('all_data.xlsx', engine='xlsxwriter')\n",
    "# Write each dataframe to a different sheet\n",
    "train_data.to_excel(writer, sheet_name='Training Data', index=False)\n",
    "test_data.to_excel(writer, sheet_name='Testing Data', index=False)\n",
    "\n",
    "# Save the Excel file\n",
    "writer.save()"
   ]
  },
  {
   "attachments": {},
   "cell_type": "markdown",
   "id": "bb8764e9",
   "metadata": {},
   "source": [
    "#### 2. Predicted Data"
   ]
  },
  {
   "cell_type": "code",
   "execution_count": null,
   "id": "bce67091",
   "metadata": {},
   "outputs": [],
   "source": [
    "# create dataframes for predicted values\n",
    "rf_predicted = pd.DataFrame(y_pred_rf, columns=['Predicted Class RF'])\n",
    "dt_predicted = pd.DataFrame(y_pred_dt, columns=['Predicted Class DT'])\n",
    "knn_predicted = pd.DataFrame(y_pred_knn, columns=['Predicted Class KNN'])\n",
    "nb_predicted = pd.DataFrame(y_pred_nb, columns=['Predicted Class NB'])\n",
    "\n",
    "# concatenate horizontally\n",
    "predicted_data = pd.concat([rf_predicted, dt_predicted, knn_predicted, nb_predicted], axis=1)\n",
    "\n",
    "# save to Excel file with sheet names\n",
    "with pd.ExcelWriter('predicted_values.xlsx') as writer:\n",
    "    predicted_data.to_excel(writer, sheet_name='Predicted Values')"
   ]
  },
  {
   "attachments": {},
   "cell_type": "markdown",
   "id": "5d0c3130",
   "metadata": {},
   "source": [
    "#### 3. Metrics Data"
   ]
  },
  {
   "cell_type": "code",
   "execution_count": null,
   "id": "d2caa714",
   "metadata": {},
   "outputs": [],
   "source": [
    "# create a Pandas Excel writer object\n",
    "writer = pd.ExcelWriter('ModelPerformance.xlsx', engine='xlsxwriter')\n",
    "\n",
    "# write dataframes to different sheets\n",
    "rf_model_performance_df.to_excel(writer, sheet_name='Random Forest Model Performance')\n",
    "dt_model_performance_df.to_excel(writer, sheet_name='Decision Tree Model Performance')\n",
    "knn_model_performance_df.to_excel(writer, sheet_name='KNN Model Performance')\n",
    "nb_model_performance_df.to_excel(writer, sheet_name='Naive Bayes Model Performance')\n",
    "\n",
    "# save the excel file\n",
    "writer.save()"
   ]
  },
  {
   "cell_type": "code",
   "execution_count": null,
   "id": "1d0889b5",
   "metadata": {},
   "outputs": [],
   "source": []
  }
 ],
 "metadata": {
  "kernelspec": {
   "display_name": "Python 3 (ipykernel)",
   "language": "python",
   "name": "python3"
  },
  "language_info": {
   "codemirror_mode": {
    "name": "ipython",
    "version": 3
   },
   "file_extension": ".py",
   "mimetype": "text/x-python",
   "name": "python",
   "nbconvert_exporter": "python",
   "pygments_lexer": "ipython3",
   "version": "3.9.13"
  }
 },
 "nbformat": 4,
 "nbformat_minor": 5
}
