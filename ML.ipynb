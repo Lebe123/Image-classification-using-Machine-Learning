{
 "cells": [
  {
   "attachments": {},
   "cell_type": "markdown",
   "id": "01926707",
   "metadata": {},
   "source": [
    "# Image Classification Using Machine Learning\n",
    "### Name: Lebelo Hailesilassie\n",
    "\n",
    "## Overview\n",
    "\n",
    "\n",
    "In this assignment images were labeled into five classes. Those are classes of 0,2,4,6, and 9 in which the classes labeling was taken from the names of the image folder in which the images were stored. Manually checking and classifying images could be a tedious task especially when they are massive in number and therefore it will be very useful if we could automate this entire process using computer vision. The work below aims to put fundamental principles machine learning."
   ]
  },
  {
   "attachments": {},
   "cell_type": "markdown",
   "id": "4c99af7f",
   "metadata": {},
   "source": [
    "# Setup\n",
    "Import all necessary libraries:"
   ]
  },
  {
   "cell_type": "code",
   "execution_count": 107,
   "id": "2656b1b9",
   "metadata": {},
   "outputs": [],
   "source": [
    "import numpy as np\n",
    "import pandas as pd\n",
    "import os\n",
    "import io\n",
    "import cv2\n",
    "import seaborn as sns\n",
    "import matplotlib.pyplot as plt\n",
    "import matplotlib.ticker as mtick\n",
    "import warnings\n",
    "warnings.filterwarnings(\"ignore\")\n",
    "#!pip install tensorflow"
   ]
  },
  {
   "cell_type": "code",
   "execution_count": 108,
   "id": "f8825677",
   "metadata": {},
   "outputs": [
    {
     "data": {
      "text/plain": [
       "'/Users/lebelotigraway/Desktop/GitHub/imageclassification'"
      ]
     },
     "execution_count": 108,
     "metadata": {},
     "output_type": "execute_result"
    }
   ],
   "source": [
    "# Get my current working directory:\n",
    "os.getcwd()"
   ]
  },
  {
   "attachments": {},
   "cell_type": "markdown",
   "id": "2a8bac52",
   "metadata": {},
   "source": [
    "### Image Pre-Processing\n",
    "Reading Image"
   ]
  },
  {
   "cell_type": "code",
   "execution_count": 109,
   "id": "77d160d1",
   "metadata": {
    "scrolled": true
   },
   "outputs": [
    {
     "name": "stdout",
     "output_type": "stream",
     "text": [
      "Number of images in the folder: 500\n",
      "There are 500 images in the folder\n"
     ]
    }
   ],
   "source": [
    "from PIL import Image\n",
    "import os\n",
    "\n",
    "# Define the path to the image folder\n",
    "image_folder = '/Users/lebelotigraway/Desktop/GitHub/imageclassification/images/0'\n",
    "\n",
    "# Initialize a counter for the number of image files\n",
    "num_images = 0\n",
    "\n",
    "# Loop through all the files in the image folder\n",
    "for filename in os.listdir(image_folder):\n",
    "    # Check if the file is an image\n",
    "    if filename.endswith('.TIF'):\n",
    "        # Increment the counter\n",
    "        num_images+=1\n",
    "        # Load the image\n",
    "        image_path=os.path.join(image_folder,filename)\n",
    "        #image = Image.open(image_path)\n",
    "# Print the number of image files in the folder\n",
    "print(\"Number of images in the folder:\", num_images)\n",
    "\n",
    "# Check if there are 500 images\n",
    "if num_images == 500:\n",
    "    print(\"There are 500 images in the folder\")\n",
    "else:\n",
    "    print(\"There are not 500 images in the folder\")"
   ]
  },
  {
   "cell_type": "code",
   "execution_count": 110,
   "id": "80bbb82f",
   "metadata": {
    "scrolled": true
   },
   "outputs": [],
   "source": [
    "def process_directory(path, width=28, height=28):\n",
    "    # Initialize a list to store the data for the DataFrame\n",
    "    data = []\n",
    "\n",
    "    # Loop over all the files in the directory\n",
    "    for filename in os.listdir(path):\n",
    "\n",
    "        # Check if the file is a .tif file\n",
    "        if filename.endswith(\".TIF\"):\n",
    "\n",
    "            # Load the image using Pillow\n",
    "            img = Image.open(os.path.join(path, filename))\n",
    "            # Resize the image\n",
    "            img = img.resize((width, height))\n",
    "            # Convert image to numpy array\n",
    "            img_np = np.array(img)\n",
    "\n",
    "            # Convert image to floats\n",
    "            img_float = img_np.astype(np.float32)\n",
    "\n",
    "            # Add the image data to the list\n",
    "            data.append({'image_name': filename, 'class': path.split('/')[-1], 'label': path.split('/')[-1]})\n",
    "\n",
    "    # Create the DataFrame with index and column names\n",
    "    df = pd.DataFrame(data, columns=['image_name', 'class', 'label'], index=range(1, len(data)+1))\n",
    "    return df"
   ]
  },
  {
   "attachments": {},
   "cell_type": "markdown",
   "id": "ec185e26",
   "metadata": {},
   "source": [
    "# Dataset Acquisition for Training and Testing\n",
    "\n"
   ]
  },
  {
   "attachments": {},
   "cell_type": "markdown",
   "id": "92e9d8c1",
   "metadata": {},
   "source": [
    "#### Resize and Reshape into 2D array"
   ]
  },
  {
   "attachments": {},
   "cell_type": "markdown",
   "id": "8c885bc3",
   "metadata": {},
   "source": [
    " Image classification using machine learning algorithms from sklearn\n",
    "requires reshaping the images of the dataset to a two-dimensional array.\n",
    "This is because sklearn expects a 2D array as input to the fit() function\n",
    "which will be called on the model during training.\n",
    "Because the model that is going to be used will be trained with 2-D array input shape, the images needs to be resized into their width and height specifications."
   ]
  },
  {
   "cell_type": "code",
   "execution_count": 111,
   "id": "b9720217",
   "metadata": {},
   "outputs": [],
   "source": [
    "# Define the width and height to resize the image\n",
    "width=28\n",
    "height=28\n",
    "# Define the path to the image in folders\n",
    "f_0='/Users/lebelotigraway/Desktop/GitHub/imageclassification/images/0'\n",
    "f_2='/Users/lebelotigraway/Desktop/GitHub/imageclassification/images/2'\n",
    "f_4='/Users/lebelotigraway/Desktop/GitHub/imageclassification/images/4'\n",
    "f_6='/Users/lebelotigraway/Desktop/GitHub/imageclassification/images/6'\n",
    "f_9='/Users/lebelotigraway/Desktop/GitHub/imageclassification/images/9'\n",
    "# Define Feature and Target\n",
    "X=[]\n",
    "y=[]\n",
    "for folder_path, label in [(f_0,0),(f_2,2),(f_4,4),(f_6,6),(f_9,9)]:\n",
    "    for filename in os.listdir(folder_path):\n",
    "        if filename.endswith('.TIF'):\n",
    "            image_path=os.path.join(folder_path,filename)\n",
    "            img=Image.open(image_path)\n",
    "            img=img.resize((width,height))\n",
    "            img_arr=np.array(img)\n",
    "            X.append(img_arr)\n",
    "            y.append(label)"
   ]
  },
  {
   "attachments": {},
   "cell_type": "markdown",
   "id": "4bb2b405",
   "metadata": {},
   "source": [
    "#####  Feature and Label Extraction"
   ]
  },
  {
   "cell_type": "code",
   "execution_count": 112,
   "id": "dd7c9c79",
   "metadata": {},
   "outputs": [
    {
     "name": "stdout",
     "output_type": "stream",
     "text": [
      "(2500, 28, 28, 1)\n",
      "(2500, 1)\n"
     ]
    }
   ],
   "source": [
    "# Extract Feature\n",
    "X=np.array(X)\n",
    "X=X.reshape(-1,width,height,1)\n",
    "# Extract label or target\n",
    "y=np.array(y)\n",
    "y=y.reshape(-1,1)\n",
    "# print shape \n",
    "print(X.shape)\n",
    "print(y.shape)"
   ]
  },
  {
   "attachments": {},
   "cell_type": "markdown",
   "id": "eb2d68fa",
   "metadata": {},
   "source": [
    "##### Split Dataset into Training and Testing"
   ]
  },
  {
   "cell_type": "code",
   "execution_count": 113,
   "id": "d96e2cfe",
   "metadata": {},
   "outputs": [
    {
     "name": "stdout",
     "output_type": "stream",
     "text": [
      "X_train shape: (2000, 28, 28, 1)\n",
      "y_train shape: (2000, 1)\n",
      "X_test shape: (500, 28, 28, 1)\n",
      "y_test shape: (500, 1)\n"
     ]
    }
   ],
   "source": [
    "# Split the data into training and testing sets, with 80% for training and 20% for testing\n",
    "from sklearn.model_selection import train_test_split\n",
    "X_train,X_test,y_train,y_test=train_test_split(X,y,test_size=0.2,random_state=42,stratify=y)\n",
    "# print the shapes of the resulting datasets:\n",
    "print('X_train shape:',X_train.shape)\n",
    "print('y_train shape:',y_train.shape)\n",
    "print('X_test shape:',X_test.shape)\n",
    "print('y_test shape:',y_test.shape)"
   ]
  },
  {
   "attachments": {},
   "cell_type": "markdown",
   "id": "c373c670",
   "metadata": {},
   "source": [
    "#### Passing Stratify=y"
   ]
  },
  {
   "attachments": {},
   "cell_type": "markdown",
   "id": "9d44dcac",
   "metadata": {},
   "source": [
    " Passing the 'target(y)' as the stratify parameter, 'train_test_split'will ensure that the class distribution is maintained in both the training and testing sets."
   ]
  },
  {
   "attachments": {},
   "cell_type": "markdown",
   "id": "f24c465f",
   "metadata": {},
   "source": [
    "#### Normalization & Reshape"
   ]
  },
  {
   "attachments": {},
   "cell_type": "markdown",
   "id": "d50c5d58",
   "metadata": {},
   "source": [
    " Normalization is an important step of image pre-processing by dividing \n",
    "both training and testing set of the feature by 255. This ensures the pixels of all\n",
    "the images are mainained within a uniform range."
   ]
  },
  {
   "cell_type": "code",
   "execution_count": 114,
   "id": "6187fb26",
   "metadata": {},
   "outputs": [],
   "source": [
    "# Normalization\n",
    "X_train=X_train/255.0\n",
    "X_test=X_test/255.0"
   ]
  },
  {
   "cell_type": "code",
   "execution_count": 115,
   "id": "1e43f0a1",
   "metadata": {},
   "outputs": [],
   "source": [
    "# Reshape X_train and X_test back to 2D\n",
    "X_train2 = X_train.reshape(X_train.shape[0], -1)\n",
    "X_test2 = X_test.reshape(X_test.shape[0], -1)"
   ]
  },
  {
   "attachments": {},
   "cell_type": "markdown",
   "id": "e8b9e15e",
   "metadata": {},
   "source": [
    "# Implementing top noch Classifiers to Classify the class of an image"
   ]
  },
  {
   "attachments": {},
   "cell_type": "markdown",
   "id": "bac00ff9",
   "metadata": {},
   "source": [
    "#### 1. Random Forest Classifier\n",
    "A common problem with decision trees is that they tend to fit the training data too closely(i.e overfitting). This has motivated the widespread use of an ensemble learning method called random forest. In a random forest, many decision trees are trained,but each tree only receives a bootstrapped sample of observation(i. e a random sample of observations with replacement that matches the original number of observation) and each node only considers a subset of features when determining the best split. This forest of randomized decison trees votes to determine the predicted class of each image from the scanned documents.Parameters used in this classifier are the defualt.\n"
   ]
  },
  {
   "cell_type": "code",
   "execution_count": 116,
   "id": "d99bc6ea",
   "metadata": {},
   "outputs": [],
   "source": [
    "# import RandomForest Classifier:\n",
    "from sklearn.ensemble import RandomForestClassifier\n",
    "# Ceate an instance of the RandomForestClassifier class:\n",
    "rf=RandomForestClassifier()\n",
    "# fit and train model using training sets\n",
    "rf.fit(X_train2,y_train)\n",
    "# predict the test set using the fitted RandomForest model\n",
    "y_pred_rf=rf.predict(X_test2)"
   ]
  },
  {
   "attachments": {},
   "cell_type": "markdown",
   "id": "3077bd11",
   "metadata": {},
   "source": [
    "#### 2. Decision Tree\n",
    "Tree-based learning algorithms are a broad and popular family of related non-parametric, supervised methods for both classification and regression. One reason for the popularity of tree-based models is their interpretability."
   ]
  },
  {
   "cell_type": "code",
   "execution_count": 117,
   "id": "bc2984c4",
   "metadata": {},
   "outputs": [],
   "source": [
    "# import DecisionTree Classifier\n",
    "from sklearn.tree import DecisionTreeClassifier\n",
    "# Create and instance of the DecisionTreeClassifier\n",
    "dt=DecisionTreeClassifier()\n",
    "# fit and train model using training sets\n",
    "dt.fit(X_train2,y_train)\n",
    "# predict the test set using the fitted DecisionTree model\n",
    "y_pred_dt=dt.predict(X_test2)"
   ]
  },
  {
   "attachments": {},
   "cell_type": "markdown",
   "id": "421caa31",
   "metadata": {},
   "source": [
    "#### 3. K-Nearest Neighbours \n",
    "The K-Nearest Neighbors classifier(KNN) is one of the simplest and yet commonly used classifiers in supervised machine learning. This classifier does not technically train a model to make predictions. Instead an observation is predicted to be the class of that of the largest proportion of the k nearest observations. For example, if an observation with an unknown class is surrounded by an observation of class 0 (the first class in our data set), then the observation is classified as class 0."
   ]
  },
  {
   "cell_type": "code",
   "execution_count": 118,
   "id": "c5d3ccaf",
   "metadata": {},
   "outputs": [],
   "source": [
    "# import KNeighborsClassifier class\n",
    "from sklearn.neighbors import KNeighborsClassifier\n",
    "# create and instance of KNeighbors of '7' folds, 5 is the defualt\n",
    "knn=KNeighborsClassifier(n_neighbors=7)\n",
    "# fit and train model using training sets\n",
    "knn.fit(X_train2,y_train)\n",
    "# predict the test set using the fitted knn model\n",
    "y_pred_knn=knn.predict(X_test2)"
   ]
  },
  {
   "attachments": {},
   "cell_type": "markdown",
   "id": "00094778",
   "metadata": {},
   "source": [
    "#### 4. Naive Bayes  \n",
    "In naive Bayes, we compare an observation's posterior values for each possible class. Because the marginal probability is constant across these comparisons, we compare the numerators of the posyerior for each class."
   ]
  },
  {
   "cell_type": "code",
   "execution_count": 119,
   "id": "5b20f29c",
   "metadata": {},
   "outputs": [],
   "source": [
    "# import KNeighborsClassifier class\n",
    "from sklearn.naive_bayes import GaussianNB\n",
    "# create and instance of NB model\n",
    "nb=GaussianNB()\n",
    "# fit and train model using training sets\n",
    "nb.fit(X_train2,y_train)\n",
    "# predict the test set using the fitted knn model\n",
    "y_pred_nb=nb.predict(X_test2)"
   ]
  },
  {
   "attachments": {},
   "cell_type": "markdown",
   "id": "c413c182",
   "metadata": {},
   "source": [
    "# Evaluating Multiclass Classifier Prediction\n",
    "The models above were created and trained to predict five(5) classes namely class 0, class 2, class 4, class 6 and class 9. Classes name is from the name of the images folder.\n",
    "Metrics used to evaluate the model performance to identify the classification of the images are precision,recall, accuracy, F1, and confusion matrix."
   ]
  },
  {
   "attachments": {},
   "cell_type": "markdown",
   "id": "5ce5f688",
   "metadata": {},
   "source": [
    "#### import Performance Measures Metrics"
   ]
  },
  {
   "cell_type": "code",
   "execution_count": 120,
   "id": "5ffdf0c5",
   "metadata": {},
   "outputs": [],
   "source": [
    "from sklearn.metrics import confusion_matrix,classification_report"
   ]
  },
  {
   "attachments": {},
   "cell_type": "markdown",
   "id": "498ac0c3",
   "metadata": {},
   "source": [
    "#### 1. Random Forest Classifier Model Performance \n"
   ]
  },
  {
   "attachments": {},
   "cell_type": "markdown",
   "id": "ac9dc188",
   "metadata": {},
   "source": [
    "##### Classification Report(Precision, Recall F1- Score)"
   ]
  },
  {
   "cell_type": "code",
   "execution_count": 121,
   "id": "5d695999",
   "metadata": {
    "scrolled": false
   },
   "outputs": [
    {
     "data": {
      "text/html": [
       "<div>\n",
       "<style scoped>\n",
       "    .dataframe tbody tr th:only-of-type {\n",
       "        vertical-align: middle;\n",
       "    }\n",
       "\n",
       "    .dataframe tbody tr th {\n",
       "        vertical-align: top;\n",
       "    }\n",
       "\n",
       "    .dataframe thead th {\n",
       "        text-align: right;\n",
       "    }\n",
       "</style>\n",
       "<table border=\"1\" class=\"dataframe\">\n",
       "  <thead>\n",
       "    <tr style=\"text-align: right;\">\n",
       "      <th></th>\n",
       "      <th>precision</th>\n",
       "      <th>recall</th>\n",
       "      <th>f1-score</th>\n",
       "      <th>support</th>\n",
       "    </tr>\n",
       "  </thead>\n",
       "  <tbody>\n",
       "    <tr>\n",
       "      <th>0</th>\n",
       "      <td>0.80000</td>\n",
       "      <td>0.714286</td>\n",
       "      <td>0.754717</td>\n",
       "      <td>112.000</td>\n",
       "    </tr>\n",
       "    <tr>\n",
       "      <th>2</th>\n",
       "      <td>0.90000</td>\n",
       "      <td>0.882353</td>\n",
       "      <td>0.891089</td>\n",
       "      <td>102.000</td>\n",
       "    </tr>\n",
       "    <tr>\n",
       "      <th>4</th>\n",
       "      <td>0.70000</td>\n",
       "      <td>0.804598</td>\n",
       "      <td>0.748663</td>\n",
       "      <td>87.000</td>\n",
       "    </tr>\n",
       "    <tr>\n",
       "      <th>6</th>\n",
       "      <td>0.69000</td>\n",
       "      <td>0.633028</td>\n",
       "      <td>0.660287</td>\n",
       "      <td>109.000</td>\n",
       "    </tr>\n",
       "    <tr>\n",
       "      <th>9</th>\n",
       "      <td>0.55000</td>\n",
       "      <td>0.611111</td>\n",
       "      <td>0.578947</td>\n",
       "      <td>90.000</td>\n",
       "    </tr>\n",
       "    <tr>\n",
       "      <th>accuracy</th>\n",
       "      <td>0.72800</td>\n",
       "      <td>0.728000</td>\n",
       "      <td>0.728000</td>\n",
       "      <td>0.728</td>\n",
       "    </tr>\n",
       "    <tr>\n",
       "      <th>macro avg</th>\n",
       "      <td>0.72800</td>\n",
       "      <td>0.729075</td>\n",
       "      <td>0.726741</td>\n",
       "      <td>500.000</td>\n",
       "    </tr>\n",
       "    <tr>\n",
       "      <th>weighted avg</th>\n",
       "      <td>0.73402</td>\n",
       "      <td>0.728000</td>\n",
       "      <td>0.729259</td>\n",
       "      <td>500.000</td>\n",
       "    </tr>\n",
       "  </tbody>\n",
       "</table>\n",
       "</div>"
      ],
      "text/plain": [
       "              precision    recall  f1-score  support\n",
       "0               0.80000  0.714286  0.754717  112.000\n",
       "2               0.90000  0.882353  0.891089  102.000\n",
       "4               0.70000  0.804598  0.748663   87.000\n",
       "6               0.69000  0.633028  0.660287  109.000\n",
       "9               0.55000  0.611111  0.578947   90.000\n",
       "accuracy        0.72800  0.728000  0.728000    0.728\n",
       "macro avg       0.72800  0.729075  0.726741  500.000\n",
       "weighted avg    0.73402  0.728000  0.729259  500.000"
      ]
     },
     "execution_count": 121,
     "metadata": {},
     "output_type": "execute_result"
    }
   ],
   "source": [
    "# Generate classification report\n",
    "rf_model_performance=classification_report(y_pred_rf,y_test,output_dict=True)\n",
    "# Convert Classification report to dataframe\n",
    "rf_model_performance_df =pd.DataFrame(rf_model_performance).T\n",
    "rf_model_performance_df"
   ]
  },
  {
   "attachments": {},
   "cell_type": "markdown",
   "id": "defbfd7f",
   "metadata": {},
   "source": [
    "Macro : Calculates the mean of metric scores for each class, weighting each class equally.\n",
    "Weighted: Calculate mean of metric scores for each class, weighting each class proportional to its size in the data."
   ]
  },
  {
   "attachments": {},
   "cell_type": "markdown",
   "id": "fadabc1f",
   "metadata": {},
   "source": [
    "##### Confusion Matrix\n",
    "Confusion matrix compares predicted classes and true classes. One of the major benefits of comfusion matrices is their interpretability. Each column of the matrix (often visualized as a heatmap) represents the predicted classes, while every row shows true classes. The end result is that every cell is one possible combination of predict and true classes."
   ]
  },
  {
   "cell_type": "code",
   "execution_count": 122,
   "id": "11bd2921",
   "metadata": {
    "scrolled": true
   },
   "outputs": [
    {
     "data": {
      "text/html": [
       "<div>\n",
       "<style scoped>\n",
       "    .dataframe tbody tr th:only-of-type {\n",
       "        vertical-align: middle;\n",
       "    }\n",
       "\n",
       "    .dataframe tbody tr th {\n",
       "        vertical-align: top;\n",
       "    }\n",
       "\n",
       "    .dataframe thead th {\n",
       "        text-align: right;\n",
       "    }\n",
       "</style>\n",
       "<table border=\"1\" class=\"dataframe\">\n",
       "  <thead>\n",
       "    <tr style=\"text-align: right;\">\n",
       "      <th></th>\n",
       "      <th>0</th>\n",
       "      <th>2</th>\n",
       "      <th>4</th>\n",
       "      <th>6</th>\n",
       "      <th>9</th>\n",
       "    </tr>\n",
       "  </thead>\n",
       "  <tbody>\n",
       "    <tr>\n",
       "      <th>0</th>\n",
       "      <td>80</td>\n",
       "      <td>4</td>\n",
       "      <td>10</td>\n",
       "      <td>9</td>\n",
       "      <td>9</td>\n",
       "    </tr>\n",
       "    <tr>\n",
       "      <th>2</th>\n",
       "      <td>3</td>\n",
       "      <td>90</td>\n",
       "      <td>0</td>\n",
       "      <td>5</td>\n",
       "      <td>4</td>\n",
       "    </tr>\n",
       "    <tr>\n",
       "      <th>4</th>\n",
       "      <td>4</td>\n",
       "      <td>1</td>\n",
       "      <td>70</td>\n",
       "      <td>1</td>\n",
       "      <td>11</td>\n",
       "    </tr>\n",
       "    <tr>\n",
       "      <th>6</th>\n",
       "      <td>8</td>\n",
       "      <td>4</td>\n",
       "      <td>7</td>\n",
       "      <td>69</td>\n",
       "      <td>21</td>\n",
       "    </tr>\n",
       "    <tr>\n",
       "      <th>9</th>\n",
       "      <td>5</td>\n",
       "      <td>1</td>\n",
       "      <td>13</td>\n",
       "      <td>16</td>\n",
       "      <td>55</td>\n",
       "    </tr>\n",
       "  </tbody>\n",
       "</table>\n",
       "</div>"
      ],
      "text/plain": [
       "    0   2   4   6   9\n",
       "0  80   4  10   9   9\n",
       "2   3  90   0   5   4\n",
       "4   4   1  70   1  11\n",
       "6   8   4   7  69  21\n",
       "9   5   1  13  16  55"
      ]
     },
     "execution_count": 122,
     "metadata": {},
     "output_type": "execute_result"
    }
   ],
   "source": [
    "# Compute confusion matrix\n",
    "rf_cm=confusion_matrix(y_pred_rf,y_test)\n",
    "#Convert to dataframe\n",
    "target_classes = ['0', '2', '4', '6', '9']\n",
    "rf_cm_df=pd.DataFrame(rf_cm,index=target_classes,columns=target_classes)\n",
    "rf_cm_df"
   ]
  },
  {
   "attachments": {},
   "cell_type": "markdown",
   "id": "8e241566",
   "metadata": {},
   "source": [
    "##### Visualze Confusion Matrix Using Heatmap"
   ]
  },
  {
   "cell_type": "code",
   "execution_count": 123,
   "id": "ef17eff7",
   "metadata": {},
   "outputs": [
    {
     "data": {
      "image/png": "[encoded data removed]",
      "text/plain": [
       "<Figure size 640x480 with 1 Axes>"
      ]
     },
     "metadata": {},
     "output_type": "display_data"
    }
   ],
   "source": [
    "#create heatmap for better visualization\n",
    "sns.heatmap(rf_cm_df,annot=True,cbar=None,cmap='Blues')\n",
    "plt.title('Confusion Matrix for RandomForest Classifier'),plt.tight_layout()\n",
    "plt.ylabel('True Class'),plt.xlabel('Predicated Class')\n",
    "plt.show()"
   ]
  },
  {
   "attachments": {},
   "cell_type": "markdown",
   "id": "2d4ac435",
   "metadata": {},
   "source": [
    "RandomForest Classifier Heatmpa analysis:\n",
    "\n",
    "\n",
    "A perfect model will have values along the diagonal and zeros everywhere else. A bad model will look like the observation counts will be spread evenly around cells.\n",
    "The random forest classifier model is not perfect but it is not bad either. The model was able to predict 88% of class 2 correctly and 59% class 9, which is the lowest socre. That means this model had relatively an easy time differentating class o and class 2, but relatively much more difficult time classifying class 9."
   ]
  },
  {
   "attachments": {},
   "cell_type": "markdown",
   "id": "b15cd4ec",
   "metadata": {},
   "source": [
    "#### 2. Decision Tree"
   ]
  },
  {
   "attachments": {},
   "cell_type": "markdown",
   "id": "e1800d0a",
   "metadata": {},
   "source": [
    "##### Classification Report(Precision, Recall F1- Score"
   ]
  },
  {
   "cell_type": "code",
   "execution_count": 124,
   "id": "c25ffa1a",
   "metadata": {},
   "outputs": [
    {
     "data": {
      "text/html": [
       "<div>\n",
       "<style scoped>\n",
       "    .dataframe tbody tr th:only-of-type {\n",
       "        vertical-align: middle;\n",
       "    }\n",
       "\n",
       "    .dataframe tbody tr th {\n",
       "        vertical-align: top;\n",
       "    }\n",
       "\n",
       "    .dataframe thead th {\n",
       "        text-align: right;\n",
       "    }\n",
       "</style>\n",
       "<table border=\"1\" class=\"dataframe\">\n",
       "  <thead>\n",
       "    <tr style=\"text-align: right;\">\n",
       "      <th></th>\n",
       "      <th>precision</th>\n",
       "      <th>recall</th>\n",
       "      <th>f1-score</th>\n",
       "      <th>support</th>\n",
       "    </tr>\n",
       "  </thead>\n",
       "  <tbody>\n",
       "    <tr>\n",
       "      <th>0</th>\n",
       "      <td>0.57000</td>\n",
       "      <td>0.548077</td>\n",
       "      <td>0.558824</td>\n",
       "      <td>104.00</td>\n",
       "    </tr>\n",
       "    <tr>\n",
       "      <th>2</th>\n",
       "      <td>0.86000</td>\n",
       "      <td>0.819048</td>\n",
       "      <td>0.839024</td>\n",
       "      <td>105.00</td>\n",
       "    </tr>\n",
       "    <tr>\n",
       "      <th>4</th>\n",
       "      <td>0.52000</td>\n",
       "      <td>0.597701</td>\n",
       "      <td>0.556150</td>\n",
       "      <td>87.00</td>\n",
       "    </tr>\n",
       "    <tr>\n",
       "      <th>6</th>\n",
       "      <td>0.49000</td>\n",
       "      <td>0.445455</td>\n",
       "      <td>0.466667</td>\n",
       "      <td>110.00</td>\n",
       "    </tr>\n",
       "    <tr>\n",
       "      <th>9</th>\n",
       "      <td>0.51000</td>\n",
       "      <td>0.542553</td>\n",
       "      <td>0.525773</td>\n",
       "      <td>94.00</td>\n",
       "    </tr>\n",
       "    <tr>\n",
       "      <th>accuracy</th>\n",
       "      <td>0.59000</td>\n",
       "      <td>0.590000</td>\n",
       "      <td>0.590000</td>\n",
       "      <td>0.59</td>\n",
       "    </tr>\n",
       "    <tr>\n",
       "      <th>macro avg</th>\n",
       "      <td>0.59000</td>\n",
       "      <td>0.590567</td>\n",
       "      <td>0.589288</td>\n",
       "      <td>500.00</td>\n",
       "    </tr>\n",
       "    <tr>\n",
       "      <th>weighted avg</th>\n",
       "      <td>0.59332</td>\n",
       "      <td>0.590000</td>\n",
       "      <td>0.590712</td>\n",
       "      <td>500.00</td>\n",
       "    </tr>\n",
       "  </tbody>\n",
       "</table>\n",
       "</div>"
      ],
      "text/plain": [
       "              precision    recall  f1-score  support\n",
       "0               0.57000  0.548077  0.558824   104.00\n",
       "2               0.86000  0.819048  0.839024   105.00\n",
       "4               0.52000  0.597701  0.556150    87.00\n",
       "6               0.49000  0.445455  0.466667   110.00\n",
       "9               0.51000  0.542553  0.525773    94.00\n",
       "accuracy        0.59000  0.590000  0.590000     0.59\n",
       "macro avg       0.59000  0.590567  0.589288   500.00\n",
       "weighted avg    0.59332  0.590000  0.590712   500.00"
      ]
     },
     "execution_count": 124,
     "metadata": {},
     "output_type": "execute_result"
    }
   ],
   "source": [
    "# Generate classification report\n",
    "dt_model_performance=classification_report(y_pred_dt,y_test,output_dict=True)\n",
    "# Convert Classification report to dataframe\n",
    "dt_model_performance_df =pd.DataFrame(dt_model_performance).T\n",
    "dt_model_performance_df"
   ]
  },
  {
   "attachments": {},
   "cell_type": "markdown",
   "id": "22a60687",
   "metadata": {},
   "source": [
    "##### Confusion Matrix\n",
    "Confusion matrix compares predicted classes and true classes"
   ]
  },
  {
   "cell_type": "code",
   "execution_count": 125,
   "id": "7510fc64",
   "metadata": {},
   "outputs": [
    {
     "data": {
      "text/html": [
       "<div>\n",
       "<style scoped>\n",
       "    .dataframe tbody tr th:only-of-type {\n",
       "        vertical-align: middle;\n",
       "    }\n",
       "\n",
       "    .dataframe tbody tr th {\n",
       "        vertical-align: top;\n",
       "    }\n",
       "\n",
       "    .dataframe thead th {\n",
       "        text-align: right;\n",
       "    }\n",
       "</style>\n",
       "<table border=\"1\" class=\"dataframe\">\n",
       "  <thead>\n",
       "    <tr style=\"text-align: right;\">\n",
       "      <th></th>\n",
       "      <th>0</th>\n",
       "      <th>2</th>\n",
       "      <th>4</th>\n",
       "      <th>6</th>\n",
       "      <th>9</th>\n",
       "    </tr>\n",
       "  </thead>\n",
       "  <tbody>\n",
       "    <tr>\n",
       "      <th>0</th>\n",
       "      <td>57</td>\n",
       "      <td>7</td>\n",
       "      <td>10</td>\n",
       "      <td>17</td>\n",
       "      <td>13</td>\n",
       "    </tr>\n",
       "    <tr>\n",
       "      <th>2</th>\n",
       "      <td>7</td>\n",
       "      <td>86</td>\n",
       "      <td>6</td>\n",
       "      <td>3</td>\n",
       "      <td>3</td>\n",
       "    </tr>\n",
       "    <tr>\n",
       "      <th>4</th>\n",
       "      <td>11</td>\n",
       "      <td>2</td>\n",
       "      <td>52</td>\n",
       "      <td>10</td>\n",
       "      <td>12</td>\n",
       "    </tr>\n",
       "    <tr>\n",
       "      <th>6</th>\n",
       "      <td>18</td>\n",
       "      <td>2</td>\n",
       "      <td>20</td>\n",
       "      <td>49</td>\n",
       "      <td>21</td>\n",
       "    </tr>\n",
       "    <tr>\n",
       "      <th>9</th>\n",
       "      <td>7</td>\n",
       "      <td>3</td>\n",
       "      <td>12</td>\n",
       "      <td>21</td>\n",
       "      <td>51</td>\n",
       "    </tr>\n",
       "  </tbody>\n",
       "</table>\n",
       "</div>"
      ],
      "text/plain": [
       "    0   2   4   6   9\n",
       "0  57   7  10  17  13\n",
       "2   7  86   6   3   3\n",
       "4  11   2  52  10  12\n",
       "6  18   2  20  49  21\n",
       "9   7   3  12  21  51"
      ]
     },
     "execution_count": 125,
     "metadata": {},
     "output_type": "execute_result"
    }
   ],
   "source": [
    "# Compute confusion matrix\n",
    "dt_cm=confusion_matrix(y_pred_dt,y_test)\n",
    "#Convert to dataframe\n",
    "target_classes = ['0', '2', '4', '6', '9']\n",
    "dt_cm_df=pd.DataFrame(dt_cm,index=target_classes,columns=target_classes)\n",
    "dt_cm_df"
   ]
  },
  {
   "attachments": {},
   "cell_type": "markdown",
   "id": "b1b9b066",
   "metadata": {},
   "source": [
    "##### Visualze Confusion Matrix Using Heatmap"
   ]
  },
  {
   "cell_type": "code",
   "execution_count": 126,
   "id": "8de67a82",
   "metadata": {},
   "outputs": [
    {
     "data": {
      "image/png": "[encoded data removed]",
      "text/plain": [
       "<Figure size 640x480 with 1 Axes>"
      ]
     },
     "metadata": {},
     "output_type": "display_data"
    }
   ],
   "source": [
    "#create heatmap for better visualization\n",
    "sns.heatmap(dt_cm_df,annot=True,cbar=None,cmap='Blues')\n",
    "plt.title('Confusion Matrix for Decision Tree Classifier'),plt.tight_layout()\n",
    "plt.ylabel('True Class'),plt.xlabel('Predicated Class')\n",
    "plt.show()"
   ]
  },
  {
   "attachments": {},
   "cell_type": "markdown",
   "id": "044f039d",
   "metadata": {},
   "source": [
    "Decision Tree Classifier Heatmpa analysis:\n",
    "    \n",
    "Like the Random Forest classifier model, the decison tree model seems to havee an easier time differentiating predicting class 2 but much more difficult with classifying all most all the classes or worst in classifying class 4 and class 6, both were <50%.\n"
   ]
  },
  {
   "attachments": {},
   "cell_type": "markdown",
   "id": "64363a1b",
   "metadata": {},
   "source": [
    "##### 3. K-Nearest Neighbours"
   ]
  },
  {
   "attachments": {},
   "cell_type": "markdown",
   "id": "788dcb2d",
   "metadata": {},
   "source": [
    "##### Classification Report(Precision, Recall F1- Score¶"
   ]
  },
  {
   "cell_type": "code",
   "execution_count": 127,
   "id": "e21b118d",
   "metadata": {},
   "outputs": [
    {
     "data": {
      "text/html": [
       "<div>\n",
       "<style scoped>\n",
       "    .dataframe tbody tr th:only-of-type {\n",
       "        vertical-align: middle;\n",
       "    }\n",
       "\n",
       "    .dataframe tbody tr th {\n",
       "        vertical-align: top;\n",
       "    }\n",
       "\n",
       "    .dataframe thead th {\n",
       "        text-align: right;\n",
       "    }\n",
       "</style>\n",
       "<table border=\"1\" class=\"dataframe\">\n",
       "  <thead>\n",
       "    <tr style=\"text-align: right;\">\n",
       "      <th></th>\n",
       "      <th>precision</th>\n",
       "      <th>recall</th>\n",
       "      <th>f1-score</th>\n",
       "      <th>support</th>\n",
       "    </tr>\n",
       "  </thead>\n",
       "  <tbody>\n",
       "    <tr>\n",
       "      <th>0</th>\n",
       "      <td>0.76000</td>\n",
       "      <td>0.723810</td>\n",
       "      <td>0.741463</td>\n",
       "      <td>105.000</td>\n",
       "    </tr>\n",
       "    <tr>\n",
       "      <th>2</th>\n",
       "      <td>0.92000</td>\n",
       "      <td>0.760331</td>\n",
       "      <td>0.832579</td>\n",
       "      <td>121.000</td>\n",
       "    </tr>\n",
       "    <tr>\n",
       "      <th>4</th>\n",
       "      <td>0.50000</td>\n",
       "      <td>0.847458</td>\n",
       "      <td>0.628931</td>\n",
       "      <td>59.000</td>\n",
       "    </tr>\n",
       "    <tr>\n",
       "      <th>6</th>\n",
       "      <td>0.77000</td>\n",
       "      <td>0.546099</td>\n",
       "      <td>0.639004</td>\n",
       "      <td>141.000</td>\n",
       "    </tr>\n",
       "    <tr>\n",
       "      <th>9</th>\n",
       "      <td>0.41000</td>\n",
       "      <td>0.554054</td>\n",
       "      <td>0.471264</td>\n",
       "      <td>74.000</td>\n",
       "    </tr>\n",
       "    <tr>\n",
       "      <th>accuracy</th>\n",
       "      <td>0.67200</td>\n",
       "      <td>0.672000</td>\n",
       "      <td>0.672000</td>\n",
       "      <td>0.672</td>\n",
       "    </tr>\n",
       "    <tr>\n",
       "      <th>macro avg</th>\n",
       "      <td>0.67200</td>\n",
       "      <td>0.686350</td>\n",
       "      <td>0.662648</td>\n",
       "      <td>500.000</td>\n",
       "    </tr>\n",
       "    <tr>\n",
       "      <th>weighted avg</th>\n",
       "      <td>0.71906</td>\n",
       "      <td>0.672000</td>\n",
       "      <td>0.681352</td>\n",
       "      <td>500.000</td>\n",
       "    </tr>\n",
       "  </tbody>\n",
       "</table>\n",
       "</div>"
      ],
      "text/plain": [
       "              precision    recall  f1-score  support\n",
       "0               0.76000  0.723810  0.741463  105.000\n",
       "2               0.92000  0.760331  0.832579  121.000\n",
       "4               0.50000  0.847458  0.628931   59.000\n",
       "6               0.77000  0.546099  0.639004  141.000\n",
       "9               0.41000  0.554054  0.471264   74.000\n",
       "accuracy        0.67200  0.672000  0.672000    0.672\n",
       "macro avg       0.67200  0.686350  0.662648  500.000\n",
       "weighted avg    0.71906  0.672000  0.681352  500.000"
      ]
     },
     "execution_count": 127,
     "metadata": {},
     "output_type": "execute_result"
    }
   ],
   "source": [
    "# Generate classification report\n",
    "knn_model_performance=classification_report(y_pred_knn,y_test,output_dict=True)\n",
    "# Convert Classification report to dataframe\n",
    "knn_model_performance_df =pd.DataFrame(knn_model_performance).T\n",
    "knn_model_performance_df"
   ]
  },
  {
   "attachments": {},
   "cell_type": "markdown",
   "id": "4c893790",
   "metadata": {},
   "source": [
    "##### Confusion Matrix¶\n",
    "Confusion matrix compares predicted classes and true classes"
   ]
  },
  {
   "cell_type": "code",
   "execution_count": 128,
   "id": "4cba0308",
   "metadata": {},
   "outputs": [
    {
     "data": {
      "text/html": [
       "<div>\n",
       "<style scoped>\n",
       "    .dataframe tbody tr th:only-of-type {\n",
       "        vertical-align: middle;\n",
       "    }\n",
       "\n",
       "    .dataframe tbody tr th {\n",
       "        vertical-align: top;\n",
       "    }\n",
       "\n",
       "    .dataframe thead th {\n",
       "        text-align: right;\n",
       "    }\n",
       "</style>\n",
       "<table border=\"1\" class=\"dataframe\">\n",
       "  <thead>\n",
       "    <tr style=\"text-align: right;\">\n",
       "      <th></th>\n",
       "      <th>0</th>\n",
       "      <th>2</th>\n",
       "      <th>4</th>\n",
       "      <th>6</th>\n",
       "      <th>9</th>\n",
       "    </tr>\n",
       "  </thead>\n",
       "  <tbody>\n",
       "    <tr>\n",
       "      <th>0</th>\n",
       "      <td>76</td>\n",
       "      <td>3</td>\n",
       "      <td>5</td>\n",
       "      <td>8</td>\n",
       "      <td>13</td>\n",
       "    </tr>\n",
       "    <tr>\n",
       "      <th>2</th>\n",
       "      <td>11</td>\n",
       "      <td>92</td>\n",
       "      <td>6</td>\n",
       "      <td>7</td>\n",
       "      <td>5</td>\n",
       "    </tr>\n",
       "    <tr>\n",
       "      <th>4</th>\n",
       "      <td>2</td>\n",
       "      <td>0</td>\n",
       "      <td>50</td>\n",
       "      <td>2</td>\n",
       "      <td>5</td>\n",
       "    </tr>\n",
       "    <tr>\n",
       "      <th>6</th>\n",
       "      <td>9</td>\n",
       "      <td>3</td>\n",
       "      <td>16</td>\n",
       "      <td>77</td>\n",
       "      <td>36</td>\n",
       "    </tr>\n",
       "    <tr>\n",
       "      <th>9</th>\n",
       "      <td>2</td>\n",
       "      <td>2</td>\n",
       "      <td>23</td>\n",
       "      <td>6</td>\n",
       "      <td>41</td>\n",
       "    </tr>\n",
       "  </tbody>\n",
       "</table>\n",
       "</div>"
      ],
      "text/plain": [
       "    0   2   4   6   9\n",
       "0  76   3   5   8  13\n",
       "2  11  92   6   7   5\n",
       "4   2   0  50   2   5\n",
       "6   9   3  16  77  36\n",
       "9   2   2  23   6  41"
      ]
     },
     "execution_count": 128,
     "metadata": {},
     "output_type": "execute_result"
    }
   ],
   "source": [
    "# Compute confusion matrix\n",
    "knn_cm=confusion_matrix(y_pred_knn,y_test)\n",
    "#Convert to dataframe\n",
    "target_classes = ['0', '2', '4', '6', '9']\n",
    "knn_cm_df=pd.DataFrame(knn_cm,index=target_classes,columns=target_classes)\n",
    "knn_cm_df"
   ]
  },
  {
   "attachments": {},
   "cell_type": "markdown",
   "id": "1f439ce5",
   "metadata": {},
   "source": [
    "##### Visualze Confusion Matrix Using Heatmap"
   ]
  },
  {
   "cell_type": "code",
   "execution_count": 129,
   "id": "8210bca9",
   "metadata": {},
   "outputs": [
    {
     "data": {
      "image/png": "[encoded data removed]",
      "text/plain": [
       "<Figure size 640x480 with 1 Axes>"
      ]
     },
     "metadata": {},
     "output_type": "display_data"
    }
   ],
   "source": [
    "#create heatmap for better visualization\n",
    "sns.heatmap(knn_cm_df,annot=True,cbar=None,cmap='Blues')\n",
    "plt.title('Confusion Matrix for K-Nearest Neighbour Classifier'),plt.tight_layout()\n",
    "plt.ylabel('True Class'),plt.xlabel('Predicated Class')\n",
    "plt.show()"
   ]
  },
  {
   "attachments": {},
   "cell_type": "markdown",
   "id": "63f21073",
   "metadata": {},
   "source": [
    "KNN Classifier Heatmpa analysis:\n",
    "\n",
    "KNN classifier predicts class 2 at 92% which is the highest score by any of the models considered in this analysis. This model seems to do well classifying most of the classes except for class 9(41) and class 4(50). By now it is safe to say all the models are having difficult time classifying class 9."
   ]
  },
  {
   "attachments": {},
   "cell_type": "markdown",
   "id": "ec0838b5",
   "metadata": {},
   "source": [
    "##### 4. Naive Bayes"
   ]
  },
  {
   "attachments": {},
   "cell_type": "markdown",
   "id": "e94550ed",
   "metadata": {},
   "source": [
    "##### Classification Report(Precision, Recall F1- Score¶"
   ]
  },
  {
   "cell_type": "code",
   "execution_count": 130,
   "id": "afb0be26",
   "metadata": {},
   "outputs": [
    {
     "data": {
      "text/html": [
       "<div>\n",
       "<style scoped>\n",
       "    .dataframe tbody tr th:only-of-type {\n",
       "        vertical-align: middle;\n",
       "    }\n",
       "\n",
       "    .dataframe tbody tr th {\n",
       "        vertical-align: top;\n",
       "    }\n",
       "\n",
       "    .dataframe thead th {\n",
       "        text-align: right;\n",
       "    }\n",
       "</style>\n",
       "<table border=\"1\" class=\"dataframe\">\n",
       "  <thead>\n",
       "    <tr style=\"text-align: right;\">\n",
       "      <th></th>\n",
       "      <th>precision</th>\n",
       "      <th>recall</th>\n",
       "      <th>f1-score</th>\n",
       "      <th>support</th>\n",
       "    </tr>\n",
       "  </thead>\n",
       "  <tbody>\n",
       "    <tr>\n",
       "      <th>0</th>\n",
       "      <td>0.5600</td>\n",
       "      <td>0.427481</td>\n",
       "      <td>0.484848</td>\n",
       "      <td>131.00</td>\n",
       "    </tr>\n",
       "    <tr>\n",
       "      <th>2</th>\n",
       "      <td>0.9000</td>\n",
       "      <td>0.584416</td>\n",
       "      <td>0.708661</td>\n",
       "      <td>154.00</td>\n",
       "    </tr>\n",
       "    <tr>\n",
       "      <th>4</th>\n",
       "      <td>0.6200</td>\n",
       "      <td>0.815789</td>\n",
       "      <td>0.704545</td>\n",
       "      <td>76.00</td>\n",
       "    </tr>\n",
       "    <tr>\n",
       "      <th>6</th>\n",
       "      <td>0.1800</td>\n",
       "      <td>0.620690</td>\n",
       "      <td>0.279070</td>\n",
       "      <td>29.00</td>\n",
       "    </tr>\n",
       "    <tr>\n",
       "      <th>9</th>\n",
       "      <td>0.5400</td>\n",
       "      <td>0.490909</td>\n",
       "      <td>0.514286</td>\n",
       "      <td>110.00</td>\n",
       "    </tr>\n",
       "    <tr>\n",
       "      <th>accuracy</th>\n",
       "      <td>0.5600</td>\n",
       "      <td>0.560000</td>\n",
       "      <td>0.560000</td>\n",
       "      <td>0.56</td>\n",
       "    </tr>\n",
       "    <tr>\n",
       "      <th>macro avg</th>\n",
       "      <td>0.5600</td>\n",
       "      <td>0.587857</td>\n",
       "      <td>0.538282</td>\n",
       "      <td>500.00</td>\n",
       "    </tr>\n",
       "    <tr>\n",
       "      <th>weighted avg</th>\n",
       "      <td>0.6474</td>\n",
       "      <td>0.560000</td>\n",
       "      <td>0.581718</td>\n",
       "      <td>500.00</td>\n",
       "    </tr>\n",
       "  </tbody>\n",
       "</table>\n",
       "</div>"
      ],
      "text/plain": [
       "              precision    recall  f1-score  support\n",
       "0                0.5600  0.427481  0.484848   131.00\n",
       "2                0.9000  0.584416  0.708661   154.00\n",
       "4                0.6200  0.815789  0.704545    76.00\n",
       "6                0.1800  0.620690  0.279070    29.00\n",
       "9                0.5400  0.490909  0.514286   110.00\n",
       "accuracy         0.5600  0.560000  0.560000     0.56\n",
       "macro avg        0.5600  0.587857  0.538282   500.00\n",
       "weighted avg     0.6474  0.560000  0.581718   500.00"
      ]
     },
     "execution_count": 130,
     "metadata": {},
     "output_type": "execute_result"
    }
   ],
   "source": [
    "# Generate classification report\n",
    "nb_model_performance=classification_report(y_pred_nb,y_test,output_dict=True)\n",
    "# Convert Classification report to dataframe\n",
    "nb_model_performance_df =pd.DataFrame(nb_model_performance).T\n",
    "nb_model_performance_df"
   ]
  },
  {
   "attachments": {},
   "cell_type": "markdown",
   "id": "e8d64bc4",
   "metadata": {},
   "source": [
    "##### Confusion Matrix¶¶\n",
    "Confusion matrix compares predicted classes and true classes"
   ]
  },
  {
   "cell_type": "code",
   "execution_count": 131,
   "id": "2e59c065",
   "metadata": {},
   "outputs": [
    {
     "data": {
      "text/html": [
       "<div>\n",
       "<style scoped>\n",
       "    .dataframe tbody tr th:only-of-type {\n",
       "        vertical-align: middle;\n",
       "    }\n",
       "\n",
       "    .dataframe tbody tr th {\n",
       "        vertical-align: top;\n",
       "    }\n",
       "\n",
       "    .dataframe thead th {\n",
       "        text-align: right;\n",
       "    }\n",
       "</style>\n",
       "<table border=\"1\" class=\"dataframe\">\n",
       "  <thead>\n",
       "    <tr style=\"text-align: right;\">\n",
       "      <th></th>\n",
       "      <th>0</th>\n",
       "      <th>2</th>\n",
       "      <th>4</th>\n",
       "      <th>6</th>\n",
       "      <th>9</th>\n",
       "    </tr>\n",
       "  </thead>\n",
       "  <tbody>\n",
       "    <tr>\n",
       "      <th>0</th>\n",
       "      <td>56</td>\n",
       "      <td>8</td>\n",
       "      <td>8</td>\n",
       "      <td>38</td>\n",
       "      <td>21</td>\n",
       "    </tr>\n",
       "    <tr>\n",
       "      <th>2</th>\n",
       "      <td>35</td>\n",
       "      <td>90</td>\n",
       "      <td>5</td>\n",
       "      <td>14</td>\n",
       "      <td>10</td>\n",
       "    </tr>\n",
       "    <tr>\n",
       "      <th>4</th>\n",
       "      <td>1</td>\n",
       "      <td>0</td>\n",
       "      <td>62</td>\n",
       "      <td>4</td>\n",
       "      <td>9</td>\n",
       "    </tr>\n",
       "    <tr>\n",
       "      <th>6</th>\n",
       "      <td>0</td>\n",
       "      <td>0</td>\n",
       "      <td>5</td>\n",
       "      <td>18</td>\n",
       "      <td>6</td>\n",
       "    </tr>\n",
       "    <tr>\n",
       "      <th>9</th>\n",
       "      <td>8</td>\n",
       "      <td>2</td>\n",
       "      <td>20</td>\n",
       "      <td>26</td>\n",
       "      <td>54</td>\n",
       "    </tr>\n",
       "  </tbody>\n",
       "</table>\n",
       "</div>"
      ],
      "text/plain": [
       "    0   2   4   6   9\n",
       "0  56   8   8  38  21\n",
       "2  35  90   5  14  10\n",
       "4   1   0  62   4   9\n",
       "6   0   0   5  18   6\n",
       "9   8   2  20  26  54"
      ]
     },
     "execution_count": 131,
     "metadata": {},
     "output_type": "execute_result"
    }
   ],
   "source": [
    "# Compute confusion matrix\n",
    "nb_cm=confusion_matrix(y_pred_nb,y_test)\n",
    "#Convert to dataframe\n",
    "target_classes = ['0', '2', '4', '6', '9']\n",
    "nb_cm_df=pd.DataFrame(nb_cm,index=target_classes,columns=target_classes)\n",
    "nb_cm_df"
   ]
  },
  {
   "attachments": {},
   "cell_type": "markdown",
   "id": "528ccd40",
   "metadata": {},
   "source": [
    "##### Visualze Confusion Matrix Using Heatmap"
   ]
  },
  {
   "cell_type": "code",
   "execution_count": 132,
   "id": "27618fdc",
   "metadata": {},
   "outputs": [
    {
     "data": {
      "image/png": "[encoded data removed]",
      "text/plain": [
       "<Figure size 640x480 with 1 Axes>"
      ]
     },
     "metadata": {},
     "output_type": "display_data"
    }
   ],
   "source": [
    "#create heatmap for better visualization\n",
    "sns.heatmap(nb_cm_df,annot=True,cbar=None,cmap='Blues')\n",
    "plt.title('Confusion Matrix for Naive Bayes Classifier'),plt.tight_layout()\n",
    "plt.ylabel('True Class'),plt.xlabel('Predicated Class')\n",
    "plt.show()"
   ]
  },
  {
   "attachments": {},
   "cell_type": "markdown",
   "id": "18d08fb7",
   "metadata": {},
   "source": [
    "Naive Bayes Classifier Heatmpa analysis:\n",
    "\n",
    "\n",
    "Naive Bayes classifier is more or less similar to KNN. They both had easy time classifying class 2 (>90). This model had worst time of classifying class 6 (18) which is the lowest by any model in this context.\n",
    "Overall, though some models were able to classify specific class at higher percentage (class 2), I think Random Forest classifier is the best model to work with this image classification while Naive Bayes is the worst."
   ]
  },
  {
   "attachments": {},
   "cell_type": "markdown",
   "id": "1134f05b",
   "metadata": {},
   "source": [
    "# Results"
   ]
  },
  {
   "attachments": {},
   "cell_type": "markdown",
   "id": "ae88beac",
   "metadata": {},
   "source": [
    "##### Accuracy Score Comparison"
   ]
  },
  {
   "cell_type": "code",
   "execution_count": 133,
   "id": "681018a6",
   "metadata": {},
   "outputs": [],
   "source": [
    " # Generate accuracy score for each plot\n",
    "from sklearn.metrics import accuracy_score\n",
    "rf_accuracy=accuracy_score(y_pred_rf,y_test)\n",
    "dt_accuracy=accuracy_score(y_pred_dt,y_test)\n",
    "knn_accuracy=accuracy_score(y_pred_knn,y_test)\n",
    "nb_accuracy=accuracy_score(y_pred_nb,y_test)"
   ]
  },
  {
   "cell_type": "code",
   "execution_count": 134,
   "id": "69600817",
   "metadata": {},
   "outputs": [
    {
     "data": {
      "image/png": "[encoded data removed]",
      "text/plain": [
       "<Figure size 640x480 with 1 Axes>"
      ]
     },
     "metadata": {},
     "output_type": "display_data"
    }
   ],
   "source": [
    "# Define the data\n",
    "models = ['Random Forest', 'Decision Tree', 'KNN', 'Naive Bayes']\n",
    "accuracies = [rf_accuracy, dt_accuracy, knn_accuracy, nb_accuracy]\n",
    "\n",
    "# Create the bar chart\n",
    "fig, ax = plt.subplots()\n",
    "ax.bar(models, accuracies, color=['blue', 'green', 'purple', 'orange'])\n",
    "ax.set(title='Model Accuracy Comparison', xlabel='Model', ylabel='Accuracy (%)')\n",
    "ax.set_ylim([0.3, 0.8])\n",
    "plt.gca().yaxis.set_major_formatter(mtick.PercentFormatter(xmax=1))\n",
    "# Save the figure\n",
    "if not os.path.exists('figures'):\n",
    "    os.makedirs('figures')\n",
    "fig.savefig('figures/model_accuracies.png', dpi=300)\n",
    "plt.show()"
   ]
  },
  {
   "attachments": {},
   "cell_type": "markdown",
   "id": "022ca32a",
   "metadata": {},
   "source": [
    "Accuracy Comparison Analysis:\n",
    "\n",
    "The accuracies of the four ML algorithms that was just explored to classify the class of each images can be summarized using the graph shown above.\n",
    "Random Forest Classifier shows the best performance with 74% accuracy followed by KNN with 67% accuracy, Decision Tree with 57% accuracy and NB with 56% accuracy. Thus, Random Forest exhibits the best peromance and NB the worst. This conclusion also aligns with the results from the confusion matrix heatmap."
   ]
  },
  {
   "attachments": {},
   "cell_type": "markdown",
   "id": "8aac95bd",
   "metadata": {},
   "source": [
    "##### Precision Score Comparison"
   ]
  },
  {
   "cell_type": "code",
   "execution_count": 135,
   "id": "5301784a",
   "metadata": {
    "scrolled": true
   },
   "outputs": [
    {
     "data": {
      "image/png": "[encoded data removed]",
      "text/plain": [
       "<Figure size 640x480 with 1 Axes>"
      ]
     },
     "metadata": {},
     "output_type": "display_data"
    }
   ],
   "source": [
    "# Extract precision from each model's performance dataframe\n",
    "rf_precision = rf_model_performance_df.loc['weighted avg', 'precision']\n",
    "dt_precision = dt_model_performance_df.loc['weighted avg', 'precision']\n",
    "knn_precision = knn_model_performance_df.loc['weighted avg', 'precision']\n",
    "nb_precision = nb_model_performance_df.loc['weighted avg', 'precision']\n",
    "\n",
    "# Create a dataframe for the precision of each model\n",
    "model_comparison = pd.DataFrame({'Random Forest': rf_precision, 'Decision Tree': dt_precision,\n",
    "                                 'K-Nearest Neighbors': knn_precision, 'Naive Bayes': nb_precision},\n",
    "                                index=['precision'])\n",
    "\n",
    "# Create the bar chart\n",
    "fig, ax = plt.subplots()\n",
    "model_comparison.plot(kind='bar', rot=0, ax=ax)\n",
    "ax.set_title('Model Comparison Precision')\n",
    "plt.ylabel('Precision')\n",
    "plt.gca().yaxis.set_major_formatter(mtick.PercentFormatter(xmax=1))\n",
    "\n",
    "# Save the figure\n",
    "if not os.path.exists('figures'):\n",
    "    os.makedirs('figures')\n",
    "fig.savefig('figures/model_precisions.png', dpi=300)\n",
    "plt.show()"
   ]
  },
  {
   "cell_type": "code",
   "execution_count": 136,
   "id": "638cef4b",
   "metadata": {},
   "outputs": [
    {
     "data": {
      "image/png": "[encoded data removed]",
      "text/plain": [
       "<Figure size 640x480 with 1 Axes>"
      ]
     },
     "metadata": {},
     "output_type": "display_data"
    }
   ],
   "source": [
    "# Extract recall from each model's performance dataframe\n",
    "rf_recall = rf_model_performance_df.loc['weighted avg', 'recall']\n",
    "dt_recall = dt_model_performance_df.loc['weighted avg', 'recall']\n",
    "knn_recall = knn_model_performance_df.loc['weighted avg', 'recall']\n",
    "nb_recall = nb_model_performance_df.loc['weighted avg', 'recall']\n",
    "\n",
    "# Create a dataframe for the recall of each model\n",
    "model_comparison = pd.DataFrame({'Random Forest': rf_recall, 'Decision Tree': dt_recall,\n",
    "                                 'K-Nearest Neighbors': knn_recall, 'Naive Bayes': nb_recall},\n",
    "                                index=['recall'])\n",
    "\n",
    "# Create the bar chart\n",
    "fig, ax = plt.subplots()\n",
    "model_comparison.plot(kind='bar', rot=0, ax=ax)\n",
    "ax.set_title('Model Comparison Recall')\n",
    "plt.ylabel('Recall')\n",
    "plt.gca().yaxis.set_major_formatter(mtick.PercentFormatter(xmax=1))\n",
    "\n",
    "# Save the figure\n",
    "if not os.path.exists('figures'):\n",
    "    os.makedirs('figures')\n",
    "fig.savefig('figures/model_recall.png', dpi=300)\n",
    "plt.show()"
   ]
  },
  {
   "attachments": {},
   "cell_type": "markdown",
   "id": "0e37b4ac",
   "metadata": {},
   "source": [
    "##### F1 Score Comparison"
   ]
  },
  {
   "cell_type": "code",
   "execution_count": 137,
   "id": "6bdc1472",
   "metadata": {},
   "outputs": [
    {
     "data": {
      "image/png": "[encoded data removed]",
      "text/plain": [
       "<Figure size 640x480 with 1 Axes>"
      ]
     },
     "metadata": {},
     "output_type": "display_data"
    }
   ],
   "source": [
    "# Extract f1-score from each model's performance dataframe\n",
    "rf_f1 = rf_model_performance_df.loc['weighted avg', 'f1-score']\n",
    "dt_f1 = dt_model_performance_df.loc['weighted avg', 'f1-score']\n",
    "knn_f1 = knn_model_performance_df.loc['weighted avg', 'f1-score']\n",
    "nb_f1 = nb_model_performance_df.loc['weighted avg', 'f1-score']\n",
    "\n",
    "# Create a dataframe for the f1-score of each model\n",
    "model_comparison = pd.DataFrame({'Random Forest': rf_f1, 'Decision Tree': dt_f1,\n",
    "                                 'K-Nearest Neighbors': knn_f1, 'Naive Bayes': nb_f1},\n",
    "                                index=['F1-Score'])\n",
    "\n",
    "# Plot a bar chart\n",
    "model_comparison.plot(kind='bar', rot=0)\n",
    "plt.title('Model Comparison F1')\n",
    "plt.ylabel('F1-Score')\n",
    "\n",
    "# Save the figure\n",
    "if not os.path.exists('figures'):\n",
    "    os.makedirs('figures')\n",
    "plt.savefig('figures/model_f1.png', dpi=300)\n",
    "plt.show()"
   ]
  },
  {
   "attachments": {},
   "cell_type": "markdown",
   "id": "c0ee9bea",
   "metadata": {},
   "source": [
    "# Conclusion\n",
    "It conclusion, among all the four models used to classify the class of the images, RandomForest model exhibits the best performance and should be considered for the image classification given the model can be optimazed, fine tuned by changing all the parameters available in the sklearn libraries for the RandomForestClassifier()."
   ]
  },
  {
   "attachments": {},
   "cell_type": "markdown",
   "id": "810a6e4e",
   "metadata": {},
   "source": [
    "# Appendix: Consolidate Trained Files"
   ]
  },
  {
   "attachments": {},
   "cell_type": "markdown",
   "id": "05ad4503",
   "metadata": {},
   "source": [
    "#### 1. Training and Testing Data "
   ]
  },
  {
   "cell_type": "code",
   "execution_count": 138,
   "id": "1fc0d373",
   "metadata": {},
   "outputs": [],
   "source": [
    "# convert training and testing data into dataframe\n",
    "X_train_df = pd.DataFrame(X_train.reshape(2000, -1))\n",
    "y_train_df=pd.DataFrame(y_train,columns=['class'])\n",
    "X_test_df = pd.DataFrame(X_test.reshape(500, -1))\n",
    "y_test=pd.DataFrame(y_test,columns=['class'])\n",
    "# Horizontally stack X_train and y_train\n",
    "train_data = pd.concat([X_train_df, y_train_df], axis=1)\n",
    "# Horizontally stack X_test and y_test\n",
    "test_data = pd.concat([X_test_df, y_test], axis=1)\n",
    "# Concatenate train and test dataframes vertically\n",
    "all_data = pd.concat([train_data, test_data], axis=0, ignore_index=True)\n",
    "# Create a Pandas Excel writer using XlsxWriter engine\n",
    "writer = pd.ExcelWriter('all_data.xlsx', engine='xlsxwriter')\n",
    "# Write each dataframe to a different sheet\n",
    "train_data.to_excel(writer, sheet_name='Training Data', index=False)\n",
    "test_data.to_excel(writer, sheet_name='Testing Data', index=False)\n",
    "\n",
    "# Save the Excel file\n",
    "writer.save()"
   ]
  },
  {
   "attachments": {},
   "cell_type": "markdown",
   "id": "bb8764e9",
   "metadata": {},
   "source": [
    "#### 2. Predicted Data"
   ]
  },
  {
   "cell_type": "code",
   "execution_count": 139,
   "id": "bce67091",
   "metadata": {},
   "outputs": [],
   "source": [
    "# create dataframes for predicted values\n",
    "rf_predicted = pd.DataFrame(y_pred_rf, columns=['Predicted Class RF'])\n",
    "dt_predicted = pd.DataFrame(y_pred_dt, columns=['Predicted Class DT'])\n",
    "knn_predicted = pd.DataFrame(y_pred_knn, columns=['Predicted Class KNN'])\n",
    "nb_predicted = pd.DataFrame(y_pred_nb, columns=['Predicted Class NB'])\n",
    "\n",
    "# concatenate horizontally\n",
    "predicted_data = pd.concat([rf_predicted, dt_predicted, knn_predicted, nb_predicted], axis=1)\n",
    "\n",
    "# save to Excel file with sheet names\n",
    "with pd.ExcelWriter('predicted_values.xlsx') as writer:\n",
    "    predicted_data.to_excel(writer, sheet_name='Predicted Values')"
   ]
  },
  {
   "attachments": {},
   "cell_type": "markdown",
   "id": "5d0c3130",
   "metadata": {},
   "source": [
    "#### 3. Metrics Data"
   ]
  },
  {
   "cell_type": "code",
   "execution_count": 140,
   "id": "d2caa714",
   "metadata": {},
   "outputs": [],
   "source": [
    "# create a Pandas Excel writer object\n",
    "writer = pd.ExcelWriter('ModelPerformance.xlsx', engine='xlsxwriter')\n",
    "\n",
    "# write dataframes to different sheets\n",
    "rf_model_performance_df.to_excel(writer, sheet_name='Random Forest Model Performance')\n",
    "dt_model_performance_df.to_excel(writer, sheet_name='Decision Tree Model Performance')\n",
    "knn_model_performance_df.to_excel(writer, sheet_name='KNN Model Performance')\n",
    "nb_model_performance_df.to_excel(writer, sheet_name='Naive Bayes Model Performance')\n",
    "\n",
    "# save the excel file\n",
    "writer.save()"
   ]
  },
  {
   "cell_type": "code",
   "execution_count": null,
   "id": "1d0889b5",
   "metadata": {},
   "outputs": [],
   "source": []
  }
 ],
 "metadata": {
  "kernelspec": {
   "display_name": "Python 3 (ipykernel)",
   "language": "python",
   "name": "python3"
  },
  "language_info": {
   "codemirror_mode": {
    "name": "ipython",
    "version": 3
   },
   "file_extension": ".py",
   "mimetype": "text/x-python",
   "name": "python",
   "nbconvert_exporter": "python",
   "pygments_lexer": "ipython3",
   "version": "3.9.13"
  }
 },
 "nbformat": 4,
 "nbformat_minor": 5
}
