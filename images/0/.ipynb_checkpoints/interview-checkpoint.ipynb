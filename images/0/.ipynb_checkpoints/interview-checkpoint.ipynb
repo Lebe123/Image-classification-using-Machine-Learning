{
 "cells": [
  {
   "cell_type": "markdown",
   "id": "01926707",
   "metadata": {},
   "source": [
    "# Image Classification for Smart Data Solutions Using Machine Learning"
   ]
  },
  {
   "cell_type": "markdown",
   "id": "4c99af7f",
   "metadata": {},
   "source": [
    "# Setup\n",
    "Import TensorFlow and other necessary libraries:"
   ]
  },
  {
   "cell_type": "code",
   "execution_count": 1,
   "id": "e1439de4",
   "metadata": {},
   "outputs": [],
   "source": [
    "#!pip install opencv-python"
   ]
  },
  {
   "cell_type": "code",
   "execution_count": 5,
   "id": "2656b1b9",
   "metadata": {},
   "outputs": [],
   "source": [
    "import numpy as np\n",
    "import pandas as pd\n",
    "import os\n",
    "import cv2\n",
    "import matplotlib.pyplot as plt\n",
    "#!pip install tensorflow\n",
    "import tensorflow as tf\n",
    "from tensorflow import keras\n",
    "from tensorflow.keras import layers\n",
    "from tensorflow.keras.models import Sequential"
   ]
  },
  {
   "cell_type": "code",
   "execution_count": null,
   "id": "8220cdd4",
   "metadata": {},
   "outputs": [],
   "source": [
    "print(tf.__version__)"
   ]
  },
  {
   "cell_type": "markdown",
   "id": "e89a8648",
   "metadata": {},
   "source": [
    "### Image Pre-Processing\n",
    "Reading Image"
   ]
  },
  {
   "cell_type": "code",
   "execution_count": 5,
   "id": "5c8ba3c2",
   "metadata": {},
   "outputs": [
    {
     "data": {
      "text/plain": [
       "[]"
      ]
     },
     "execution_count": 5,
     "metadata": {},
     "output_type": "execute_result"
    }
   ],
   "source": [
    "import os\n",
    "os.getcwd()\n",
    "data_folder=os.path.join(os.getcwd(),'o')\n",
    "list(os.walk(data_folder))"
   ]
  },
  {
   "cell_type": "code",
   "execution_count": 6,
   "id": "e3411c01",
   "metadata": {},
   "outputs": [
    {
     "ename": "FileNotFoundError",
     "evalue": "[Errno 2] No such file or directory: 'Desktop/School_Stuff/Data_Science/job_interviews/MachineLearningEngineerTest/ML/data/images/1'",
     "output_type": "error",
     "traceback": [
      "\u001b[0;31m---------------------------------------------------------------------------\u001b[0m",
      "\u001b[0;31mFileNotFoundError\u001b[0m                         Traceback (most recent call last)",
      "\u001b[0;32m/var/folders/ph/byvhmcpd42s3gc9m2xh7kmk40000gn/T/ipykernel_4596/795598933.py\u001b[0m in \u001b[0;36m<module>\u001b[0;34m\u001b[0m\n\u001b[1;32m      6\u001b[0m \u001b[0;34m\u001b[0m\u001b[0m\n\u001b[1;32m      7\u001b[0m \u001b[0;31m# Loop over all the files in the directory\u001b[0m\u001b[0;34m\u001b[0m\u001b[0;34m\u001b[0m\u001b[0m\n\u001b[0;32m----> 8\u001b[0;31m \u001b[0;32mfor\u001b[0m \u001b[0mfilename\u001b[0m \u001b[0;32min\u001b[0m \u001b[0mos\u001b[0m\u001b[0;34m.\u001b[0m\u001b[0mlistdir\u001b[0m\u001b[0;34m(\u001b[0m\u001b[0mpath\u001b[0m\u001b[0;34m)\u001b[0m\u001b[0;34m:\u001b[0m\u001b[0;34m\u001b[0m\u001b[0;34m\u001b[0m\u001b[0m\n\u001b[0m\u001b[1;32m      9\u001b[0m \u001b[0;34m\u001b[0m\u001b[0m\n\u001b[1;32m     10\u001b[0m     \u001b[0;31m# Check if the file is a .tif file\u001b[0m\u001b[0;34m\u001b[0m\u001b[0;34m\u001b[0m\u001b[0m\n",
      "\u001b[0;31mFileNotFoundError\u001b[0m: [Errno 2] No such file or directory: 'Desktop/School_Stuff/Data_Science/job_interviews/MachineLearningEngineerTest/ML/data/images/1'"
     ]
    }
   ],
   "source": [
    "from PIL import Image\n",
    "import os\n",
    "\n",
    "# Set the path to the directory containing the images\n",
    "path = \"Desktop/School_Stuff/Data_Science/job_interviews/MachineLearningEngineerTest/ML/data/images/1\"\n",
    "\n",
    "# Loop over all the files in the directory\n",
    "for filename in os.listdir(path):\n",
    "    \n",
    "    # Check if the file is a .tif file\n",
    "    if filename.endswith(\".TIF\"):\n",
    "        \n",
    "        # Load the image using Pillow\n",
    "        img = Image.open(os.path.join(path, filename))\n",
    "        \n",
    "        # Do something with the image (e.g. print its dimensions)\n",
    "        print(f\"Image {filename} has dimensions {img.size}\")"
   ]
  },
  {
   "cell_type": "code",
   "execution_count": null,
   "id": "bf143c95",
   "metadata": {},
   "outputs": [],
   "source": [
    "from PIL import Image\n",
    "import os\n",
    "im=Image.open('da.TIF')\n"
   ]
  },
  {
   "cell_type": "code",
   "execution_count": null,
   "id": "168506e6",
   "metadata": {},
   "outputs": [],
   "source": [
    "from PIL import Image\n",
    "import pathlib\n",
    "# Load the image\n",
    "image = Image.open('/data/images/class_name_1/random_image_name1.TIF')\n",
    "\n",
    "# Convert the image to grayscale (if needed)\n",
    "image = image.convert('L')\n",
    "\n",
    "# Resize the image to a fixed size (if needed)\n",
    "image = image.resize((224, 224))\n",
    "\n",
    "# Convert the image to a numpy array\n",
    "import numpy as np\n",
    "image_array = np.asarray(image)\n",
    "\n",
    "# Normalize the image data (if needed)\n",
    "image_array = image_array / 255.0\n",
    "\n",
    "# Flatten the image data (if needed)\n",
    "image_array = image_array.flatten()\n",
    "\n",
    "# Use the image data for classification\n",
    "# ..."
   ]
  }
 ],
 "metadata": {
  "kernelspec": {
   "display_name": "Python 3 (ipykernel)",
   "language": "python",
   "name": "python3"
  },
  "language_info": {
   "codemirror_mode": {
    "name": "ipython",
    "version": 3
   },
   "file_extension": ".py",
   "mimetype": "text/x-python",
   "name": "python",
   "nbconvert_exporter": "python",
   "pygments_lexer": "ipython3",
   "version": "3.9.13"
  }
 },
 "nbformat": 4,
 "nbformat_minor": 5
}
